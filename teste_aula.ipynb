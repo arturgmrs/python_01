{
  "nbformat": 4,
  "nbformat_minor": 0,
  "metadata": {
    "colab": {
      "name": "Untitled0.ipynb",
      "provenance": [],
      "include_colab_link": true
    },
    "kernelspec": {
      "name": "python3",
      "display_name": "Python 3"
    },
    "language_info": {
      "name": "python"
    }
  },
  "cells": [
    {
      "cell_type": "markdown",
      "metadata": {
        "id": "view-in-github",
        "colab_type": "text"
      },
      "source": [
        "<a href=\"https://colab.research.google.com/github/arturgmrs/python_01/blob/main/teste_aula.ipynb\" target=\"_parent\"><img src=\"https://colab.research.google.com/assets/colab-badge.svg\" alt=\"Open In Colab\"/></a>"
      ]
    },
    {
      "cell_type": "code",
      "metadata": {
        "id": "mW2zuzZwdpk-"
      },
      "source": [
        ""
      ],
      "execution_count": null,
      "outputs": []
    },
    {
      "cell_type": "markdown",
      "metadata": {
        "id": "yVH8pA9VePeQ"
      },
      "source": [
        "# Capítulo 1"
      ]
    },
    {
      "cell_type": "markdown",
      "metadata": {
        "id": "yZZ5VzGkehtq"
      },
      "source": [
        "# Capítulo 2"
      ]
    },
    {
      "cell_type": "code",
      "metadata": {
        "id": "pYvnbYYed1gh"
      },
      "source": [
        ""
      ],
      "execution_count": null,
      "outputs": []
    },
    {
      "cell_type": "markdown",
      "metadata": {
        "id": "RzP2lFV_d4J9"
      },
      "source": [
        "oi boa noite"
      ]
    }
  ]
}