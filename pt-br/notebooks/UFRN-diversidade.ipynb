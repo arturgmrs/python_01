{
  "nbformat": 4,
  "nbformat_minor": 0,
  "metadata": {
    "colab": {
      "name": "UFRN-diversidade",
      "provenance": [],
      "collapsed_sections": []
    },
    "kernelspec": {
      "display_name": "Python 3",
      "language": "python",
      "name": "python3"
    },
    "language_info": {
      "codemirror_mode": {
        "name": "ipython",
        "version": 3
      },
      "file_extension": ".py",
      "mimetype": "text/x-python",
      "name": "python",
      "nbconvert_exporter": "python",
      "pygments_lexer": "ipython3",
      "version": "3.6.8"
    }
  },
  "cells": [
    {
      "cell_type": "markdown",
      "metadata": {
        "id": "uVW1T7J8Er0-"
      },
      "source": [
        "Carlos Artur Guimarães\n",
        "\n",
        "Aula Adaptada do professor Leonardo Bezerra, source: [Link](https://github.com/leobezerra/pandas-zero/tree/master/pt-br)\n",
        "\n",
        "# Concatenando múltiplas bases\n",
        "\n"
      ]
    },
    {
      "cell_type": "markdown",
      "metadata": {
        "id": "52SDZHnnmCWQ"
      },
      "source": [
        "Em algumas situações, a informação que se precisa está dividida em bases de dados com formato idêntico. \n",
        "\n",
        "Nesses casos, podemos **concatenar** essas bases. \n",
        "\n",
        "O exemplo a seguir investiga a diversidade nos cursos da UFRN.\n",
        "\n",
        "Nossa fonte de informação para este exemplo são os datasets sobre discentes ingressantes na UFRN, que estão organizados por ano de ingresso. "
      ]
    },
    {
      "cell_type": "markdown",
      "metadata": {
        "id": "SyeFxmErpOPL"
      },
      "source": [
        "## Coletando os dados"
      ]
    },
    {
      "cell_type": "markdown",
      "metadata": {
        "id": "0Vo16XAZpQzW"
      },
      "source": [
        "O primeiro passo quando temos bases de diferentes fontes é coletá-las da forma o mais automatizada possível.\n",
        "\n",
        "Neste exemplo, organizamos os links para os dados de discentes em um dicionário.\n",
        "\n",
        "No exemplo a seguir, cada chave é um ano e seu valor associado é o link para o dataset correspondente:"
      ]
    },
    {
      "cell_type": "code",
      "metadata": {
        "id": "4BjmHAdOtC8J"
      },
      "source": [
        "csv_discentes = {\n",
        "    2019: \"http://dados.ufrn.br/dataset/554c2d41-cfce-4278-93c6-eb9aa49c5d16/resource/a55aef81-e094-4267-8643-f283524e3dd7/download/discentes-2019.csv\",\n",
        "    2018: \"http://dados.ufrn.br/dataset/554c2d41-cfce-4278-93c6-eb9aa49c5d16/resource/146b749b-b9d0-49b2-b114-ac6cc82a4051/download/discentes-2018.csv\",\n",
        "    2017: \"http://dados.ufrn.br/dataset/554c2d41-cfce-4278-93c6-eb9aa49c5d16/resource/dc732572-a51a-4d4a-a39d-2db37cbe5382/download/discentes-2017.csv\",\n",
        "    2016: \"http://dados.ufrn.br/dataset/554c2d41-cfce-4278-93c6-eb9aa49c5d16/resource/7d2fa5b3-743f-465f-8450-91719b34a002/download/discentes-2016.csv\",\n",
        "    2015: \"http://dados.ufrn.br/dataset/554c2d41-cfce-4278-93c6-eb9aa49c5d16/resource/e2b5b843-4f58-497e-8979-44daf8df8f94/download/discentes-2015.csv\",\n",
        "    2014: \"http://dados.ufrn.br/dataset/554c2d41-cfce-4278-93c6-eb9aa49c5d16/resource/6c23a430-9a7c-4d0f-9602-1d5d97d40e6a/download/discentes-2014.csv\",\n",
        "}"
      ],
      "execution_count": 1,
      "outputs": []
    },
    {
      "cell_type": "markdown",
      "metadata": {
        "id": "81Nyk25Sq1uz"
      },
      "source": [
        "Podemos consumir cada um desses datasets usando o método `pd.read_csv()`.\n",
        "\n",
        "O Python permite que esse método seja aplicado a todos os links em sequência usando **compreensão de listas**, com a notação:\n",
        "\n",
        "```python3\n",
        "pd.read_csv(dicionário[chave]) for chave in dicionário\n",
        "```\n",
        "\n",
        "Entendendo o código acima, pedimos que o Python aplique o método `pd.read_csv(dicionário[chave])` para cada chave presente no dicionário.\n",
        "\n",
        "A lista produzida contém um `DataFrame` para cada ano.\n",
        "\n",
        "O método `pd.concat()` combina todos esses dataframes em um só:"
      ]
    },
    {
      "cell_type": "code",
      "metadata": {
        "id": "j198UW5Dcm8M"
      },
      "source": [
        "import pandas as pd"
      ],
      "execution_count": 2,
      "outputs": []
    },
    {
      "cell_type": "code",
      "metadata": {
        "id": "LA52lXFtECCQ",
        "colab": {
          "base_uri": "https://localhost:8080/",
          "height": 691
        },
        "outputId": "9cf62a8e-6997-46c4-d3e6-343395cceb76"
      },
      "source": [
        "dados = pd.concat(pd.read_csv(csv_discentes[ano], sep=\";\") for ano in csv_discentes)\n",
        "dados"
      ],
      "execution_count": 3,
      "outputs": [
        {
          "output_type": "execute_result",
          "data": {
            "text/html": [
              "<div>\n",
              "<style scoped>\n",
              "    .dataframe tbody tr th:only-of-type {\n",
              "        vertical-align: middle;\n",
              "    }\n",
              "\n",
              "    .dataframe tbody tr th {\n",
              "        vertical-align: top;\n",
              "    }\n",
              "\n",
              "    .dataframe thead th {\n",
              "        text-align: right;\n",
              "    }\n",
              "</style>\n",
              "<table border=\"1\" class=\"dataframe\">\n",
              "  <thead>\n",
              "    <tr style=\"text-align: right;\">\n",
              "      <th></th>\n",
              "      <th>matricula</th>\n",
              "      <th>nome_discente</th>\n",
              "      <th>sexo</th>\n",
              "      <th>ano_ingresso</th>\n",
              "      <th>periodo_ingresso</th>\n",
              "      <th>forma_ingresso</th>\n",
              "      <th>tipo_discente</th>\n",
              "      <th>status</th>\n",
              "      <th>sigla_nivel_ensino</th>\n",
              "      <th>nivel_ensino</th>\n",
              "      <th>id_curso</th>\n",
              "      <th>nome_curso</th>\n",
              "      <th>modalidade_educacao</th>\n",
              "      <th>id_unidade</th>\n",
              "      <th>nome_unidade</th>\n",
              "      <th>id_unidade_gestora</th>\n",
              "      <th>nome_unidade_gestora</th>\n",
              "    </tr>\n",
              "  </thead>\n",
              "  <tbody>\n",
              "    <tr>\n",
              "      <th>0</th>\n",
              "      <td>20193012209</td>\n",
              "      <td>ABDENOR BEZERRA DOS SANTOS</td>\n",
              "      <td>M</td>\n",
              "      <td>2019</td>\n",
              "      <td>1.0</td>\n",
              "      <td>PROCESSO SELETIVO</td>\n",
              "      <td>REGULAR</td>\n",
              "      <td>CANCELADO</td>\n",
              "      <td>T</td>\n",
              "      <td>TÉCNICO</td>\n",
              "      <td>96054058.0</td>\n",
              "      <td>CURSO TÉCNICO DA METRÓPOLE DIGITAL</td>\n",
              "      <td>SEMI-PRESENCIAL</td>\n",
              "      <td>6069.0</td>\n",
              "      <td>INSTITUTO METROPOLE DIGITAL</td>\n",
              "      <td>605.0</td>\n",
              "      <td>UNIVERSIDADE FEDERAL DO RIO GRANDE DO NORTE</td>\n",
              "    </tr>\n",
              "    <tr>\n",
              "      <th>1</th>\n",
              "      <td>20190088900</td>\n",
              "      <td>ABDIAS MONTEIRO DE ANDRADE MELO</td>\n",
              "      <td>M</td>\n",
              "      <td>2019</td>\n",
              "      <td>1.0</td>\n",
              "      <td>SiSU</td>\n",
              "      <td>REGULAR</td>\n",
              "      <td>ATIVO</td>\n",
              "      <td>G</td>\n",
              "      <td>GRADUAÇÃO</td>\n",
              "      <td>111635060.0</td>\n",
              "      <td>HISTÓRIA</td>\n",
              "      <td>PRESENCIAL</td>\n",
              "      <td>1482.0</td>\n",
              "      <td>CENTRO DE  ENSINO SUPERIOR DO SERIDÓ</td>\n",
              "      <td>1482.0</td>\n",
              "      <td>CENTRO DE  ENSINO SUPERIOR DO SERIDÓ</td>\n",
              "    </tr>\n",
              "    <tr>\n",
              "      <th>2</th>\n",
              "      <td>20190127606</td>\n",
              "      <td>ABDIAS SABINO RODRIGUES FILHO</td>\n",
              "      <td>M</td>\n",
              "      <td>2019</td>\n",
              "      <td>1.0</td>\n",
              "      <td>SiSU</td>\n",
              "      <td>REGULAR</td>\n",
              "      <td>CANCELADO</td>\n",
              "      <td>G</td>\n",
              "      <td>GRADUAÇÃO</td>\n",
              "      <td>111635060.0</td>\n",
              "      <td>HISTÓRIA</td>\n",
              "      <td>PRESENCIAL</td>\n",
              "      <td>1482.0</td>\n",
              "      <td>CENTRO DE  ENSINO SUPERIOR DO SERIDÓ</td>\n",
              "      <td>1482.0</td>\n",
              "      <td>CENTRO DE  ENSINO SUPERIOR DO SERIDÓ</td>\n",
              "    </tr>\n",
              "    <tr>\n",
              "      <th>3</th>\n",
              "      <td>20195001008</td>\n",
              "      <td>ABEL GOMES DE OLIVEIRA FILHO</td>\n",
              "      <td>M</td>\n",
              "      <td>2019</td>\n",
              "      <td>1.0</td>\n",
              "      <td>PROCESSO SELETIVO</td>\n",
              "      <td>REGULAR</td>\n",
              "      <td>ATIVO</td>\n",
              "      <td>F</td>\n",
              "      <td>FORMAÇÃO COMPLEMENTAR</td>\n",
              "      <td>112718836.0</td>\n",
              "      <td>CURSO DE LÍNGUA BRASILEIRA DE SINAIS (LIBRAS)</td>\n",
              "      <td>PRESENCIAL</td>\n",
              "      <td>6042.0</td>\n",
              "      <td>INSTITUTO ÁGORA - LÍNGUAS, LITERATURAS E CULTU...</td>\n",
              "      <td>442.0</td>\n",
              "      <td>CENTRO DE CIÊNCIAS HUMANAS, LETRAS E ARTES</td>\n",
              "    </tr>\n",
              "    <tr>\n",
              "      <th>4</th>\n",
              "      <td>20190032217</td>\n",
              "      <td>ABI AMANA DE AQUINO BEZERRA</td>\n",
              "      <td>F</td>\n",
              "      <td>2019</td>\n",
              "      <td>2.0</td>\n",
              "      <td>SiSU</td>\n",
              "      <td>REGULAR</td>\n",
              "      <td>ATIVO</td>\n",
              "      <td>G</td>\n",
              "      <td>GRADUAÇÃO</td>\n",
              "      <td>119512361.0</td>\n",
              "      <td>COMUNICAÇÃO SOCIAL - AUDIOVISUAL</td>\n",
              "      <td>PRESENCIAL</td>\n",
              "      <td>442.0</td>\n",
              "      <td>CENTRO DE CIÊNCIAS HUMANAS, LETRAS E ARTES</td>\n",
              "      <td>442.0</td>\n",
              "      <td>CENTRO DE CIÊNCIAS HUMANAS, LETRAS E ARTES</td>\n",
              "    </tr>\n",
              "    <tr>\n",
              "      <th>...</th>\n",
              "      <td>...</td>\n",
              "      <td>...</td>\n",
              "      <td>...</td>\n",
              "      <td>...</td>\n",
              "      <td>...</td>\n",
              "      <td>...</td>\n",
              "      <td>...</td>\n",
              "      <td>...</td>\n",
              "      <td>...</td>\n",
              "      <td>...</td>\n",
              "      <td>...</td>\n",
              "      <td>...</td>\n",
              "      <td>...</td>\n",
              "      <td>...</td>\n",
              "      <td>...</td>\n",
              "      <td>...</td>\n",
              "      <td>...</td>\n",
              "    </tr>\n",
              "    <tr>\n",
              "      <th>20601</th>\n",
              "      <td>2014069672</td>\n",
              "      <td>ZUEZYO COSTA DUTRA</td>\n",
              "      <td>M</td>\n",
              "      <td>2014</td>\n",
              "      <td>2.0</td>\n",
              "      <td>SiSU</td>\n",
              "      <td>REGULAR</td>\n",
              "      <td>CONCLUÍDO</td>\n",
              "      <td>G</td>\n",
              "      <td>GRADUAÇÃO</td>\n",
              "      <td>104831949.0</td>\n",
              "      <td>MEDICINA</td>\n",
              "      <td>PRESENCIAL</td>\n",
              "      <td>7278.0</td>\n",
              "      <td>ESCOLA MULTICAMPI DE CIÊNCIAS MÉDICAS DO RIO G...</td>\n",
              "      <td>605.0</td>\n",
              "      <td>UNIVERSIDADE FEDERAL DO RIO GRANDE DO NORTE</td>\n",
              "    </tr>\n",
              "    <tr>\n",
              "      <th>20602</th>\n",
              "      <td>2014124649</td>\n",
              "      <td>ZULEIKA DANTAS DO VALE TAVARES</td>\n",
              "      <td>F</td>\n",
              "      <td>2014</td>\n",
              "      <td>2.0</td>\n",
              "      <td>SELEÇÃO DE PÓS-GRADUAÇÃO</td>\n",
              "      <td>REGULAR</td>\n",
              "      <td>CONCLUÍDO</td>\n",
              "      <td>E</td>\n",
              "      <td>MESTRADO</td>\n",
              "      <td>88211810.0</td>\n",
              "      <td>MESTRADO PROFISSIONAL EM SAÚDE DA FAMÍLIA</td>\n",
              "      <td>PRESENCIAL</td>\n",
              "      <td>6135.0</td>\n",
              "      <td>PROGRAMA DE PÓS-GRADUAÇÃO EM SAÚDE DA FAMÍLIA ...</td>\n",
              "      <td>441.0</td>\n",
              "      <td>CENTRO DE CIÊNCIAS DA SAÚDE</td>\n",
              "    </tr>\n",
              "    <tr>\n",
              "      <th>20603</th>\n",
              "      <td>2014049400</td>\n",
              "      <td>ZULMARA ANGELA DE AZEVEDO OLIVEIRA</td>\n",
              "      <td>F</td>\n",
              "      <td>2014</td>\n",
              "      <td>1.0</td>\n",
              "      <td>SiSU</td>\n",
              "      <td>REGULAR</td>\n",
              "      <td>ATIVO</td>\n",
              "      <td>G</td>\n",
              "      <td>GRADUAÇÃO</td>\n",
              "      <td>2000019.0</td>\n",
              "      <td>DIREITO</td>\n",
              "      <td>PRESENCIAL</td>\n",
              "      <td>1482.0</td>\n",
              "      <td>CENTRO DE  ENSINO SUPERIOR DO SERIDÓ</td>\n",
              "      <td>1482.0</td>\n",
              "      <td>CENTRO DE  ENSINO SUPERIOR DO SERIDÓ</td>\n",
              "    </tr>\n",
              "    <tr>\n",
              "      <th>20604</th>\n",
              "      <td>2014502053</td>\n",
              "      <td>ZURYELL COSTA DUTRA</td>\n",
              "      <td>M</td>\n",
              "      <td>2014</td>\n",
              "      <td>1.0</td>\n",
              "      <td>PROCESSO SELETIVO</td>\n",
              "      <td>REGULAR</td>\n",
              "      <td>ATIVO</td>\n",
              "      <td>F</td>\n",
              "      <td>FORMAÇÃO COMPLEMENTAR</td>\n",
              "      <td>86979169.0</td>\n",
              "      <td>CURSO DE LÍNGUA INGLESA  BÁSICO</td>\n",
              "      <td>PRESENCIAL</td>\n",
              "      <td>6042.0</td>\n",
              "      <td>INSTITUTO ÁGORA - LÍNGUAS, LITERATURAS E CULTU...</td>\n",
              "      <td>442.0</td>\n",
              "      <td>CENTRO DE CIÊNCIAS HUMANAS, LETRAS E ARTES</td>\n",
              "    </tr>\n",
              "    <tr>\n",
              "      <th>20605</th>\n",
              "      <td>2014021768</td>\n",
              "      <td>ZYURE MARINHO OLIVEIRA DE MELLO</td>\n",
              "      <td>M</td>\n",
              "      <td>2014</td>\n",
              "      <td>1.0</td>\n",
              "      <td>SiSU</td>\n",
              "      <td>REGULAR</td>\n",
              "      <td>CANCELADO</td>\n",
              "      <td>G</td>\n",
              "      <td>GRADUAÇÃO</td>\n",
              "      <td>111635066.0</td>\n",
              "      <td>MATEMÁTICA</td>\n",
              "      <td>PRESENCIAL</td>\n",
              "      <td>439.0</td>\n",
              "      <td>CENTRO DE CIÊNCIAS EXATAS E DA TERRA</td>\n",
              "      <td>439.0</td>\n",
              "      <td>CENTRO DE CIÊNCIAS EXATAS E DA TERRA</td>\n",
              "    </tr>\n",
              "  </tbody>\n",
              "</table>\n",
              "<p>117202 rows × 17 columns</p>\n",
              "</div>"
            ],
            "text/plain": [
              "         matricula  ...                         nome_unidade_gestora\n",
              "0      20193012209  ...  UNIVERSIDADE FEDERAL DO RIO GRANDE DO NORTE\n",
              "1      20190088900  ...         CENTRO DE  ENSINO SUPERIOR DO SERIDÓ\n",
              "2      20190127606  ...         CENTRO DE  ENSINO SUPERIOR DO SERIDÓ\n",
              "3      20195001008  ...   CENTRO DE CIÊNCIAS HUMANAS, LETRAS E ARTES\n",
              "4      20190032217  ...   CENTRO DE CIÊNCIAS HUMANAS, LETRAS E ARTES\n",
              "...            ...  ...                                          ...\n",
              "20601   2014069672  ...  UNIVERSIDADE FEDERAL DO RIO GRANDE DO NORTE\n",
              "20602   2014124649  ...                  CENTRO DE CIÊNCIAS DA SAÚDE\n",
              "20603   2014049400  ...         CENTRO DE  ENSINO SUPERIOR DO SERIDÓ\n",
              "20604   2014502053  ...   CENTRO DE CIÊNCIAS HUMANAS, LETRAS E ARTES\n",
              "20605   2014021768  ...         CENTRO DE CIÊNCIAS EXATAS E DA TERRA\n",
              "\n",
              "[117202 rows x 17 columns]"
            ]
          },
          "metadata": {
            "tags": []
          },
          "execution_count": 3
        }
      ]
    },
    {
      "cell_type": "markdown",
      "metadata": {
        "id": "n92X93kQP5ug"
      },
      "source": [
        "Agora que já unimos os datasets, vamos salvá-lo para não precisarmos refazer esse processo a cada vez.\n",
        "\n",
        "Uma das formas de **persistir** um `DataFrame` é usar o método `to_csv()` que salva os dados em um arquivo CSV:"
      ]
    },
    {
      "cell_type": "code",
      "metadata": {
        "id": "9lXgRFkaQYHG",
        "colab": {
          "base_uri": "https://localhost:8080/"
        },
        "outputId": "6e74b9d5-6874-478a-e4c4-37dbb52d3ef3"
      },
      "source": [
        "from google.colab import drive\n",
        "drive.mount('/content/drive')"
      ],
      "execution_count": 4,
      "outputs": [
        {
          "output_type": "stream",
          "text": [
            "Mounted at /content/drive\n"
          ],
          "name": "stdout"
        }
      ]
    },
    {
      "cell_type": "code",
      "metadata": {
        "id": "OJpkfzPaPny0"
      },
      "source": [
        "dados.to_csv(\"/content/drive/My Drive/discentes-ufrn-2014-2019.csv\", index=False)"
      ],
      "execution_count": 6,
      "outputs": []
    },
    {
      "cell_type": "markdown",
      "metadata": {
        "id": "s20VksOkEqnU"
      },
      "source": [
        "## Avaliando a diversidade no IMD"
      ]
    },
    {
      "cell_type": "markdown",
      "metadata": {
        "id": "_-L7W5-nc7_f"
      },
      "source": [
        "Começamos nossa análise pelos dados do IMD.\n",
        "\n",
        "Fazemos essa seleção filtrando pelo campo `nome_unidade`:"
      ]
    },
    {
      "cell_type": "code",
      "metadata": {
        "id": "J3OCZTPCEqH_",
        "colab": {
          "base_uri": "https://localhost:8080/"
        },
        "outputId": "8f9abe7c-fe5b-48bf-9a2a-45fb4043bfb1"
      },
      "source": [
        "dados_imd = dados.query(\"nome_unidade == 'INSTITUTO METROPOLE DIGITAL'\")\n",
        "dados_imd.shape"
      ],
      "execution_count": 7,
      "outputs": [
        {
          "output_type": "execute_result",
          "data": {
            "text/plain": [
              "(10080, 17)"
            ]
          },
          "metadata": {
            "tags": []
          },
          "execution_count": 7
        }
      ]
    },
    {
      "cell_type": "markdown",
      "metadata": {
        "id": "87H0RCt3fuoN"
      },
      "source": [
        "Uma operação bastante comum em bancos de dados é calcular estatísticas que exigem **agrupar** os dados.\n",
        "\n",
        "No Pandas, podemos fazer isso usando o método `groupby()` dos objetos do tipo `DataFrame`.\n",
        "\n",
        "O exemplo a seguir calcula a quantidade de observações por ano, isto é, a quantidade de ingressantes nos cursos do IMD entre 2014 e 2019.\n",
        "\n",
        "Antes, no entanto, precisamos verificar se há **dados faltando** nesta coluna:"
      ]
    },
    {
      "cell_type": "code",
      "metadata": {
        "id": "t0cIyasBrgvo",
        "colab": {
          "base_uri": "https://localhost:8080/"
        },
        "outputId": "682f9915-e92c-4f22-9c4d-1e0d1a9b289b"
      },
      "source": [
        "dados_imd.isnull().sum()"
      ],
      "execution_count": 8,
      "outputs": [
        {
          "output_type": "execute_result",
          "data": {
            "text/plain": [
              "matricula               0\n",
              "nome_discente           0\n",
              "sexo                    0\n",
              "ano_ingresso            0\n",
              "periodo_ingresso        0\n",
              "forma_ingresso          0\n",
              "tipo_discente           0\n",
              "status                  0\n",
              "sigla_nivel_ensino      0\n",
              "nivel_ensino            0\n",
              "id_curso                0\n",
              "nome_curso              0\n",
              "modalidade_educacao     0\n",
              "id_unidade              0\n",
              "nome_unidade            0\n",
              "id_unidade_gestora      0\n",
              "nome_unidade_gestora    0\n",
              "dtype: int64"
            ]
          },
          "metadata": {
            "tags": []
          },
          "execution_count": 8
        }
      ]
    },
    {
      "cell_type": "markdown",
      "metadata": {
        "id": "khYucdNSgTHJ"
      },
      "source": [
        "Como não temos dados faltando, podemos prosseguir com a análise:"
      ]
    },
    {
      "cell_type": "code",
      "metadata": {
        "id": "EtdT6fd_FC0X",
        "colab": {
          "base_uri": "https://localhost:8080/"
        },
        "outputId": "d3547650-31db-4255-9670-c0acba729a56"
      },
      "source": [
        "dados_imd.groupby(\"ano_ingresso\").size()"
      ],
      "execution_count": 9,
      "outputs": [
        {
          "output_type": "execute_result",
          "data": {
            "text/plain": [
              "ano_ingresso\n",
              "2014    1809\n",
              "2015    1885\n",
              "2016    1728\n",
              "2017    2382\n",
              "2018    1140\n",
              "2019    1136\n",
              "dtype: int64"
            ]
          },
          "metadata": {
            "tags": []
          },
          "execution_count": 9
        }
      ]
    },
    {
      "cell_type": "markdown",
      "metadata": {
        "id": "CuDMsm_zhzF1"
      },
      "source": [
        "Também podemos fazer agrupamentos considerando múltiplas características dos dados:"
      ]
    },
    {
      "cell_type": "code",
      "metadata": {
        "id": "uhmavZ-3FvzH",
        "colab": {
          "base_uri": "https://localhost:8080/"
        },
        "outputId": "114d33e4-ba14-485f-d4d4-3720ed148136"
      },
      "source": [
        "dados_imd.groupby([\"nome_curso\",\"ano_ingresso\",\"sexo\"]).size()"
      ],
      "execution_count": 10,
      "outputs": [
        {
          "output_type": "execute_result",
          "data": {
            "text/plain": [
              "nome_curso                                                                      ano_ingresso  sexo \n",
              "CURSO TÉCNICO DA METRÓPOLE DIGITAL                                              2014          F         408\n",
              "                                                                                              M        1127\n",
              "                                                                                2015          F         405\n",
              "                                                                                              M        1116\n",
              "                                                                                              false       1\n",
              "                                                                                2016          F         302\n",
              "                                                                                              M        1028\n",
              "                                                                                2017          F         709\n",
              "                                                                                              M        1268\n",
              "                                                                                2018          F         150\n",
              "                                                                                              M         554\n",
              "                                                                                2019          F         149\n",
              "                                                                                              M         547\n",
              "ESPECIALIZAÇÃO EM BIG DATA                                                      2016          F           6\n",
              "                                                                                              M          23\n",
              "ESPECIALIZAÇÃO EM DESENVOLVIMENTO DE APLICAÇÕES PARA DISPOSITIVOS MÓVEIS        2015          M           4\n",
              "                                                                                2016          M          20\n",
              "ESPECIALIZAÇÃO EM DESENVOLVIMENTO PARA DISPOSITIVOS MÓVEIS                      2015          M          26\n",
              "                                                                                2018          F           1\n",
              "                                                                                              M          23\n",
              "ESPECIALIZAÇÃO EM DIREITO DA INOVAÇÃO TECNOLÓGICA                               2019          F          11\n",
              "                                                                                              M          20\n",
              "ESPECIALIZAÇÃO EM SISTEMAS EMBARCADOS PARA INTERNET DAS COISAS                  2018          M          21\n",
              "ESPECIALIZAÇÃO EM TECNOLOGIA DA INFORMAÇÃO - TCE/RN                             2019          M           8\n",
              "ESPECIALIZAÇÃO EM TECNOLOGIA DA INFORMAÇÃO - TURMA TRE/RN                       2018          F           1\n",
              "                                                                                              M          26\n",
              "RESIDÊNCIA EM TECNOLOGIA DA INFORMAÇÃO - JFRN                                   2019          F           1\n",
              "                                                                                              M           5\n",
              "RESIDÊNCIA EM TECNOLOGIA DA INFORMAÇÃO - TCE/RN                                 2019          M          14\n",
              "RESIDÊNCIA EM TECNOLOGIA DA INFORMAÇÃO - TURMA NUPLAM                           2019          F           2\n",
              "                                                                                              M          22\n",
              "RESIDÊNCIA EM TECNOLOGIA DA INFORMAÇÃO - TURMA TRE/RN                           2018          M          11\n",
              "                                                                                2019          M           2\n",
              "RESIDÊNCIA EM TECNOLOGIA DA INFORMAÇÃO APLICADA À ÁREA JURÍDICA                 2017          F           4\n",
              "                                                                                              M          37\n",
              "                                                                                2018          F           1\n",
              "                                                                                              M           5\n",
              "RESIDÊNCIA EM TECNOLOGIA DA INFORMAÇÃO APLICADA À ÁREA JURÍDICA - TURMA JF      2017          F           2\n",
              "                                                                                              M          11\n",
              "                                                                                2018          F           1\n",
              "                                                                                              M           2\n",
              "                                                                                2019          M           6\n",
              "RESIDÊNCIA EM TECNOLOGIA DA INFORMAÇÃO APLICADA À ÁREA JURÍDICA - TURMA TCE/RN  2017          F           1\n",
              "                                                                                              M          19\n",
              "                                                                                2018          M           3\n",
              "TECNOLOGIA DA INFORMAÇÃO                                                        2014          F          28\n",
              "                                                                                              M         245\n",
              "                                                                                              false       1\n",
              "                                                                                2015          F          39\n",
              "                                                                                              M         294\n",
              "                                                                                2016          F          31\n",
              "                                                                                              M         318\n",
              "                                                                                2017          F          28\n",
              "                                                                                              M         303\n",
              "                                                                                2018          F          44\n",
              "                                                                                              M         297\n",
              "                                                                                2019          F          35\n",
              "                                                                                              M         314\n",
              "dtype: int64"
            ]
          },
          "metadata": {
            "tags": []
          },
          "execution_count": 10
        }
      ]
    },
    {
      "cell_type": "markdown",
      "metadata": {
        "id": "jTZTFJzulqPc"
      },
      "source": [
        "Para verificar existência de **dados inválidos**, precisaremos nos assegurar que fiquem no dataframe apenas observações que respeitem as possibilidades disponíveis para esta característica: "
      ]
    },
    {
      "cell_type": "code",
      "metadata": {
        "id": "z_1rgFFlGKrO",
        "colab": {
          "base_uri": "https://localhost:8080/"
        },
        "outputId": "848aac42-e44b-4fa2-e234-9e02b9f12d8f"
      },
      "source": [
        "dados_imd = dados_imd.query(\"sexo in ['M','F']\")\n",
        "dados_imd.shape"
      ],
      "execution_count": 11,
      "outputs": [
        {
          "output_type": "execute_result",
          "data": {
            "text/plain": [
              "(10078, 17)"
            ]
          },
          "metadata": {
            "tags": []
          },
          "execution_count": 11
        }
      ]
    },
    {
      "cell_type": "code",
      "metadata": {
        "id": "rq7fqNf0GcNl",
        "colab": {
          "base_uri": "https://localhost:8080/"
        },
        "outputId": "490edc93-a9ba-4613-cdc6-e84b87013a0f"
      },
      "source": [
        "dados_imd.groupby([\"nome_curso\",\"ano_ingresso\",\"sexo\"]).size()"
      ],
      "execution_count": 12,
      "outputs": [
        {
          "output_type": "execute_result",
          "data": {
            "text/plain": [
              "nome_curso                                                                      ano_ingresso  sexo\n",
              "CURSO TÉCNICO DA METRÓPOLE DIGITAL                                              2014          F        408\n",
              "                                                                                              M       1127\n",
              "                                                                                2015          F        405\n",
              "                                                                                              M       1116\n",
              "                                                                                2016          F        302\n",
              "                                                                                              M       1028\n",
              "                                                                                2017          F        709\n",
              "                                                                                              M       1268\n",
              "                                                                                2018          F        150\n",
              "                                                                                              M        554\n",
              "                                                                                2019          F        149\n",
              "                                                                                              M        547\n",
              "ESPECIALIZAÇÃO EM BIG DATA                                                      2016          F          6\n",
              "                                                                                              M         23\n",
              "ESPECIALIZAÇÃO EM DESENVOLVIMENTO DE APLICAÇÕES PARA DISPOSITIVOS MÓVEIS        2015          M          4\n",
              "                                                                                2016          M         20\n",
              "ESPECIALIZAÇÃO EM DESENVOLVIMENTO PARA DISPOSITIVOS MÓVEIS                      2015          M         26\n",
              "                                                                                2018          F          1\n",
              "                                                                                              M         23\n",
              "ESPECIALIZAÇÃO EM DIREITO DA INOVAÇÃO TECNOLÓGICA                               2019          F         11\n",
              "                                                                                              M         20\n",
              "ESPECIALIZAÇÃO EM SISTEMAS EMBARCADOS PARA INTERNET DAS COISAS                  2018          M         21\n",
              "ESPECIALIZAÇÃO EM TECNOLOGIA DA INFORMAÇÃO - TCE/RN                             2019          M          8\n",
              "ESPECIALIZAÇÃO EM TECNOLOGIA DA INFORMAÇÃO - TURMA TRE/RN                       2018          F          1\n",
              "                                                                                              M         26\n",
              "RESIDÊNCIA EM TECNOLOGIA DA INFORMAÇÃO - JFRN                                   2019          F          1\n",
              "                                                                                              M          5\n",
              "RESIDÊNCIA EM TECNOLOGIA DA INFORMAÇÃO - TCE/RN                                 2019          M         14\n",
              "RESIDÊNCIA EM TECNOLOGIA DA INFORMAÇÃO - TURMA NUPLAM                           2019          F          2\n",
              "                                                                                              M         22\n",
              "RESIDÊNCIA EM TECNOLOGIA DA INFORMAÇÃO - TURMA TRE/RN                           2018          M         11\n",
              "                                                                                2019          M          2\n",
              "RESIDÊNCIA EM TECNOLOGIA DA INFORMAÇÃO APLICADA À ÁREA JURÍDICA                 2017          F          4\n",
              "                                                                                              M         37\n",
              "                                                                                2018          F          1\n",
              "                                                                                              M          5\n",
              "RESIDÊNCIA EM TECNOLOGIA DA INFORMAÇÃO APLICADA À ÁREA JURÍDICA - TURMA JF      2017          F          2\n",
              "                                                                                              M         11\n",
              "                                                                                2018          F          1\n",
              "                                                                                              M          2\n",
              "                                                                                2019          M          6\n",
              "RESIDÊNCIA EM TECNOLOGIA DA INFORMAÇÃO APLICADA À ÁREA JURÍDICA - TURMA TCE/RN  2017          F          1\n",
              "                                                                                              M         19\n",
              "                                                                                2018          M          3\n",
              "TECNOLOGIA DA INFORMAÇÃO                                                        2014          F         28\n",
              "                                                                                              M        245\n",
              "                                                                                2015          F         39\n",
              "                                                                                              M        294\n",
              "                                                                                2016          F         31\n",
              "                                                                                              M        318\n",
              "                                                                                2017          F         28\n",
              "                                                                                              M        303\n",
              "                                                                                2018          F         44\n",
              "                                                                                              M        297\n",
              "                                                                                2019          F         35\n",
              "                                                                                              M        314\n",
              "dtype: int64"
            ]
          },
          "metadata": {
            "tags": []
          },
          "execution_count": 12
        }
      ]
    },
    {
      "cell_type": "markdown",
      "metadata": {
        "id": "xLXRI1V_nMGR"
      },
      "source": [
        "Vamos restringir nossa análise ao Bacharelado em Tecnologia da Informação (BTI).\n",
        "\n",
        "Fazemos isso filtrando os dados pela característica `nome_curso`:"
      ]
    },
    {
      "cell_type": "code",
      "metadata": {
        "id": "jx3HxkKbGqxz"
      },
      "source": [
        "dados_bti = dados_imd.query(\"nome_curso == 'TECNOLOGIA DA INFORMAÇÃO'\")"
      ],
      "execution_count": 13,
      "outputs": []
    },
    {
      "cell_type": "code",
      "metadata": {
        "id": "RCw5PQmgGnLz",
        "colab": {
          "base_uri": "https://localhost:8080/"
        },
        "outputId": "ad1f1db0-a556-4d24-e92b-758feb152f94"
      },
      "source": [
        "agregado_bti = dados_bti.groupby([\"ano_ingresso\",\"sexo\"]).size()\n",
        "agregado_bti"
      ],
      "execution_count": 14,
      "outputs": [
        {
          "output_type": "execute_result",
          "data": {
            "text/plain": [
              "ano_ingresso  sexo\n",
              "2014          F        28\n",
              "              M       245\n",
              "2015          F        39\n",
              "              M       294\n",
              "2016          F        31\n",
              "              M       318\n",
              "2017          F        28\n",
              "              M       303\n",
              "2018          F        44\n",
              "              M       297\n",
              "2019          F        35\n",
              "              M       314\n",
              "dtype: int64"
            ]
          },
          "metadata": {
            "tags": []
          },
          "execution_count": 14
        }
      ]
    },
    {
      "cell_type": "markdown",
      "metadata": {
        "id": "-hmlyfa-nVCK"
      },
      "source": [
        "Como a quantidade de ingressantes por ano varia, comparar anos diferentes só é possível em termos relativos.\n",
        "\n",
        "Para isso, o Pandas oferece o método `crosstab`, cuja opção `normalize` determina se a contagem de frequência será normalizada ou não e como. \n",
        "\n",
        "Neste caso, informamos que a normalização seja feita pela característica listada horizontalmente (índices):"
      ]
    },
    {
      "cell_type": "code",
      "metadata": {
        "id": "0S5pUIOVn2J6",
        "colab": {
          "base_uri": "https://localhost:8080/",
          "height": 266
        },
        "outputId": "5dc5185b-f1f5-4dbf-ddfb-d09575ec3bb8"
      },
      "source": [
        "percentual_bti = pd.crosstab(dados_bti[\"ano_ingresso\"], dados_bti[\"sexo\"], normalize=\"index\")\n",
        "percentual_bti"
      ],
      "execution_count": 15,
      "outputs": [
        {
          "output_type": "execute_result",
          "data": {
            "text/html": [
              "<div>\n",
              "<style scoped>\n",
              "    .dataframe tbody tr th:only-of-type {\n",
              "        vertical-align: middle;\n",
              "    }\n",
              "\n",
              "    .dataframe tbody tr th {\n",
              "        vertical-align: top;\n",
              "    }\n",
              "\n",
              "    .dataframe thead th {\n",
              "        text-align: right;\n",
              "    }\n",
              "</style>\n",
              "<table border=\"1\" class=\"dataframe\">\n",
              "  <thead>\n",
              "    <tr style=\"text-align: right;\">\n",
              "      <th>sexo</th>\n",
              "      <th>F</th>\n",
              "      <th>M</th>\n",
              "    </tr>\n",
              "    <tr>\n",
              "      <th>ano_ingresso</th>\n",
              "      <th></th>\n",
              "      <th></th>\n",
              "    </tr>\n",
              "  </thead>\n",
              "  <tbody>\n",
              "    <tr>\n",
              "      <th>2014</th>\n",
              "      <td>0.102564</td>\n",
              "      <td>0.897436</td>\n",
              "    </tr>\n",
              "    <tr>\n",
              "      <th>2015</th>\n",
              "      <td>0.117117</td>\n",
              "      <td>0.882883</td>\n",
              "    </tr>\n",
              "    <tr>\n",
              "      <th>2016</th>\n",
              "      <td>0.088825</td>\n",
              "      <td>0.911175</td>\n",
              "    </tr>\n",
              "    <tr>\n",
              "      <th>2017</th>\n",
              "      <td>0.084592</td>\n",
              "      <td>0.915408</td>\n",
              "    </tr>\n",
              "    <tr>\n",
              "      <th>2018</th>\n",
              "      <td>0.129032</td>\n",
              "      <td>0.870968</td>\n",
              "    </tr>\n",
              "    <tr>\n",
              "      <th>2019</th>\n",
              "      <td>0.100287</td>\n",
              "      <td>0.899713</td>\n",
              "    </tr>\n",
              "  </tbody>\n",
              "</table>\n",
              "</div>"
            ],
            "text/plain": [
              "sexo                 F         M\n",
              "ano_ingresso                    \n",
              "2014          0.102564  0.897436\n",
              "2015          0.117117  0.882883\n",
              "2016          0.088825  0.911175\n",
              "2017          0.084592  0.915408\n",
              "2018          0.129032  0.870968\n",
              "2019          0.100287  0.899713"
            ]
          },
          "metadata": {
            "tags": []
          },
          "execution_count": 15
        }
      ]
    },
    {
      "cell_type": "markdown",
      "metadata": {
        "id": "R4XbS_QIrAKL"
      },
      "source": [
        "Note que agora a soma de cada valor possível para a característica `sexo` em um dado ano é igual a 1 (que representa 100% dos dados daquele ano).\n",
        "\n",
        "Não estamos muito bem em diversidade no BTI, hein? :(\n",
        "    \n",
        "Vamos gerar um gráfico de linhas para visualizar a evolução dessa (falta de) diversidade ao longo dos anos considerados.\n",
        "\n",
        "Para isso, além da `matplotlib`, vamos precisar da bibioteca `seaborn`.\n",
        "\n",
        "Por convenção, importamos a biblioteca `seaborn` como `sns` e usamos o método `set()` para ativar suas configurações padrão."
      ]
    },
    {
      "cell_type": "code",
      "metadata": {
        "id": "X0ng11mSOOQH"
      },
      "source": [
        "import matplotlib.pyplot as plt\n",
        "import seaborn as sns\n",
        "sns.set()"
      ],
      "execution_count": 16,
      "outputs": []
    },
    {
      "cell_type": "markdown",
      "metadata": {
        "id": "W52h2sONro9B"
      },
      "source": [
        "Produzimos o gráfico de linha usando o método `lineplot`, onde devemos informar através do argumento `data` os dados que pretendemos plotar.\n",
        "\n",
        "Além disso, vamos associar um nome ao gráfico de linha para poder configurar o intervalo usado no eixo y através do método `set(ylim=(início, fim))`:"
      ]
    },
    {
      "cell_type": "code",
      "metadata": {
        "id": "ZNf7wVh1HbQP",
        "colab": {
          "base_uri": "https://localhost:8080/",
          "height": 318
        },
        "outputId": "5e951407-de1b-4fcd-902f-dff957fda0b2"
      },
      "source": [
        "percentual_bti_feminino = percentual_bti[\"F\"]\n",
        "plot_bti = sns.lineplot(data=percentual_bti_feminino)\n",
        "plot_bti.set(ylim=(0,1))\n",
        "plt.xlabel(\"Ano\")\n",
        "plt.ylabel(\"Percentual\")\n",
        "plt.title(\"Discentes do sexo feminino por ano de ingresso\")"
      ],
      "execution_count": 17,
      "outputs": [
        {
          "output_type": "execute_result",
          "data": {
            "text/plain": [
              "Text(0.5, 1.0, 'Discentes do sexo feminino por ano de ingresso')"
            ]
          },
          "metadata": {
            "tags": []
          },
          "execution_count": 17
        },
        {
          "output_type": "display_data",
          "data": {
            "image/png": "[encoded data removed]",
            "text/plain": [
              "<Figure size 432x288 with 1 Axes>"
            ]
          },
          "metadata": {
            "tags": []
          }
        }
      ]
    },
    {
      "cell_type": "markdown",
      "metadata": {
        "id": "jw7B3yLkIYRP"
      },
      "source": [
        "## Avaliando os cursos associados ao BTI"
      ]
    },
    {
      "cell_type": "markdown",
      "metadata": {
        "id": "ismhki8Otjb4"
      },
      "source": [
        "O dado acima claramente é insatisfatório, mas precisamos analisá-lo em perspectiva.\n",
        "\n",
        "Vamos compará-lo inicialmente com cursos de segundo ciclo que se seguem ao BTI:"
      ]
    },
    {
      "cell_type": "code",
      "metadata": {
        "id": "cXuGFjLtIX0G"
      },
      "source": [
        "cursos_ti = [\"TECNOLOGIA DA INFORMAÇÃO\",\"ENGENHARIA DE SOFTWARE\",\"CIÊNCIA DA COMPUTAÇÃO\"]\n",
        "dados_ti = dados.query(f\"nome_curso in {cursos_ti}\")"
      ],
      "execution_count": 18,
      "outputs": []
    },
    {
      "cell_type": "markdown",
      "metadata": {
        "id": "INxXJyxMt9OF"
      },
      "source": [
        "Para começar, vamos conferir se os valores presentes neste dataframe respeitam as possibilidades elencadas para a característica `sexo`:"
      ]
    },
    {
      "cell_type": "code",
      "metadata": {
        "id": "44gYYgsjmy7_",
        "colab": {
          "base_uri": "https://localhost:8080/"
        },
        "outputId": "3283c0cd-b74d-4f25-9603-482944f24da0"
      },
      "source": [
        "dados_ti.isnull().sum()"
      ],
      "execution_count": 19,
      "outputs": [
        {
          "output_type": "execute_result",
          "data": {
            "text/plain": [
              "matricula               0\n",
              "nome_discente           0\n",
              "sexo                    0\n",
              "ano_ingresso            0\n",
              "periodo_ingresso        0\n",
              "forma_ingresso          0\n",
              "tipo_discente           0\n",
              "status                  0\n",
              "sigla_nivel_ensino      0\n",
              "nivel_ensino            0\n",
              "id_curso                0\n",
              "nome_curso              0\n",
              "modalidade_educacao     0\n",
              "id_unidade              0\n",
              "nome_unidade            0\n",
              "id_unidade_gestora      0\n",
              "nome_unidade_gestora    0\n",
              "dtype: int64"
            ]
          },
          "metadata": {
            "tags": []
          },
          "execution_count": 19
        }
      ]
    },
    {
      "cell_type": "code",
      "metadata": {
        "id": "0GJY2f1nIu1S",
        "colab": {
          "base_uri": "https://localhost:8080/"
        },
        "outputId": "19f802e2-84b5-4818-bce8-d767579eb00d"
      },
      "source": [
        "dados_ti.sexo.unique()"
      ],
      "execution_count": 20,
      "outputs": [
        {
          "output_type": "execute_result",
          "data": {
            "text/plain": [
              "array(['M', 'F', 'false'], dtype=object)"
            ]
          },
          "metadata": {
            "tags": []
          },
          "execution_count": 20
        }
      ]
    },
    {
      "cell_type": "markdown",
      "metadata": {
        "id": "WWVmJRNfuGqh"
      },
      "source": [
        "Agora podemos calcular os valores absolutos e relativos para cada um desses cursos:"
      ]
    },
    {
      "cell_type": "code",
      "metadata": {
        "id": "kdxcsd4dIyZM",
        "colab": {
          "base_uri": "https://localhost:8080/"
        },
        "outputId": "a87cd779-3f25-4aee-d43b-a121d503f414"
      },
      "source": [
        "agregado_ti = dados_ti.groupby(['nome_curso','ano_ingresso','sexo']).size()\n",
        "agregado_ti"
      ],
      "execution_count": 21,
      "outputs": [
        {
          "output_type": "execute_result",
          "data": {
            "text/plain": [
              "nome_curso                ano_ingresso  sexo \n",
              "CIÊNCIA DA COMPUTAÇÃO     2016          F          1\n",
              "                                        M          3\n",
              "                          2017          F          3\n",
              "                                        M         11\n",
              "                          2018          F          6\n",
              "                                        M         21\n",
              "                          2019          M         11\n",
              "ENGENHARIA DE SOFTWARE    2016          F          1\n",
              "                                        M          5\n",
              "                          2017          F          3\n",
              "                                        M         13\n",
              "                          2018          F          2\n",
              "                                        M         26\n",
              "                          2019          F          6\n",
              "                                        M         21\n",
              "TECNOLOGIA DA INFORMAÇÃO  2014          F         28\n",
              "                                        M        245\n",
              "                                        false      1\n",
              "                          2015          F         39\n",
              "                                        M        294\n",
              "                          2016          F         31\n",
              "                                        M        318\n",
              "                          2017          F         28\n",
              "                                        M        303\n",
              "                          2018          F         44\n",
              "                                        M        297\n",
              "                          2019          F         35\n",
              "                                        M        314\n",
              "dtype: int64"
            ]
          },
          "metadata": {
            "tags": []
          },
          "execution_count": 21
        }
      ]
    },
    {
      "cell_type": "code",
      "metadata": {
        "id": "SxQo1ttVMoQJ",
        "colab": {
          "base_uri": "https://localhost:8080/",
          "height": 514
        },
        "outputId": "16a67e49-577f-4dcb-c7b8-fe8ae13757fe"
      },
      "source": [
        "percentual_ti = pd.crosstab([dados_ti['nome_curso'], dados_ti['ano_ingresso']], dados_ti['sexo'], normalize=\"index\")\n",
        "percentual_ti"
      ],
      "execution_count": 22,
      "outputs": [
        {
          "output_type": "execute_result",
          "data": {
            "text/html": [
              "<div>\n",
              "<style scoped>\n",
              "    .dataframe tbody tr th:only-of-type {\n",
              "        vertical-align: middle;\n",
              "    }\n",
              "\n",
              "    .dataframe tbody tr th {\n",
              "        vertical-align: top;\n",
              "    }\n",
              "\n",
              "    .dataframe thead th {\n",
              "        text-align: right;\n",
              "    }\n",
              "</style>\n",
              "<table border=\"1\" class=\"dataframe\">\n",
              "  <thead>\n",
              "    <tr style=\"text-align: right;\">\n",
              "      <th></th>\n",
              "      <th>sexo</th>\n",
              "      <th>F</th>\n",
              "      <th>M</th>\n",
              "      <th>false</th>\n",
              "    </tr>\n",
              "    <tr>\n",
              "      <th>nome_curso</th>\n",
              "      <th>ano_ingresso</th>\n",
              "      <th></th>\n",
              "      <th></th>\n",
              "      <th></th>\n",
              "    </tr>\n",
              "  </thead>\n",
              "  <tbody>\n",
              "    <tr>\n",
              "      <th rowspan=\"4\" valign=\"top\">CIÊNCIA DA COMPUTAÇÃO</th>\n",
              "      <th>2016</th>\n",
              "      <td>0.250000</td>\n",
              "      <td>0.750000</td>\n",
              "      <td>0.00000</td>\n",
              "    </tr>\n",
              "    <tr>\n",
              "      <th>2017</th>\n",
              "      <td>0.214286</td>\n",
              "      <td>0.785714</td>\n",
              "      <td>0.00000</td>\n",
              "    </tr>\n",
              "    <tr>\n",
              "      <th>2018</th>\n",
              "      <td>0.222222</td>\n",
              "      <td>0.777778</td>\n",
              "      <td>0.00000</td>\n",
              "    </tr>\n",
              "    <tr>\n",
              "      <th>2019</th>\n",
              "      <td>0.000000</td>\n",
              "      <td>1.000000</td>\n",
              "      <td>0.00000</td>\n",
              "    </tr>\n",
              "    <tr>\n",
              "      <th rowspan=\"4\" valign=\"top\">ENGENHARIA DE SOFTWARE</th>\n",
              "      <th>2016</th>\n",
              "      <td>0.166667</td>\n",
              "      <td>0.833333</td>\n",
              "      <td>0.00000</td>\n",
              "    </tr>\n",
              "    <tr>\n",
              "      <th>2017</th>\n",
              "      <td>0.187500</td>\n",
              "      <td>0.812500</td>\n",
              "      <td>0.00000</td>\n",
              "    </tr>\n",
              "    <tr>\n",
              "      <th>2018</th>\n",
              "      <td>0.071429</td>\n",
              "      <td>0.928571</td>\n",
              "      <td>0.00000</td>\n",
              "    </tr>\n",
              "    <tr>\n",
              "      <th>2019</th>\n",
              "      <td>0.222222</td>\n",
              "      <td>0.777778</td>\n",
              "      <td>0.00000</td>\n",
              "    </tr>\n",
              "    <tr>\n",
              "      <th rowspan=\"6\" valign=\"top\">TECNOLOGIA DA INFORMAÇÃO</th>\n",
              "      <th>2014</th>\n",
              "      <td>0.102190</td>\n",
              "      <td>0.894161</td>\n",
              "      <td>0.00365</td>\n",
              "    </tr>\n",
              "    <tr>\n",
              "      <th>2015</th>\n",
              "      <td>0.117117</td>\n",
              "      <td>0.882883</td>\n",
              "      <td>0.00000</td>\n",
              "    </tr>\n",
              "    <tr>\n",
              "      <th>2016</th>\n",
              "      <td>0.088825</td>\n",
              "      <td>0.911175</td>\n",
              "      <td>0.00000</td>\n",
              "    </tr>\n",
              "    <tr>\n",
              "      <th>2017</th>\n",
              "      <td>0.084592</td>\n",
              "      <td>0.915408</td>\n",
              "      <td>0.00000</td>\n",
              "    </tr>\n",
              "    <tr>\n",
              "      <th>2018</th>\n",
              "      <td>0.129032</td>\n",
              "      <td>0.870968</td>\n",
              "      <td>0.00000</td>\n",
              "    </tr>\n",
              "    <tr>\n",
              "      <th>2019</th>\n",
              "      <td>0.100287</td>\n",
              "      <td>0.899713</td>\n",
              "      <td>0.00000</td>\n",
              "    </tr>\n",
              "  </tbody>\n",
              "</table>\n",
              "</div>"
            ],
            "text/plain": [
              "sexo                                          F         M    false\n",
              "nome_curso               ano_ingresso                             \n",
              "CIÊNCIA DA COMPUTAÇÃO    2016          0.250000  0.750000  0.00000\n",
              "                         2017          0.214286  0.785714  0.00000\n",
              "                         2018          0.222222  0.777778  0.00000\n",
              "                         2019          0.000000  1.000000  0.00000\n",
              "ENGENHARIA DE SOFTWARE   2016          0.166667  0.833333  0.00000\n",
              "                         2017          0.187500  0.812500  0.00000\n",
              "                         2018          0.071429  0.928571  0.00000\n",
              "                         2019          0.222222  0.777778  0.00000\n",
              "TECNOLOGIA DA INFORMAÇÃO 2014          0.102190  0.894161  0.00365\n",
              "                         2015          0.117117  0.882883  0.00000\n",
              "                         2016          0.088825  0.911175  0.00000\n",
              "                         2017          0.084592  0.915408  0.00000\n",
              "                         2018          0.129032  0.870968  0.00000\n",
              "                         2019          0.100287  0.899713  0.00000"
            ]
          },
          "metadata": {
            "tags": []
          },
          "execution_count": 22
        }
      ]
    },
    {
      "cell_type": "markdown",
      "metadata": {
        "id": "IJKhJ01Mu44J"
      },
      "source": [
        "Note que para os cursos de ciência da computação e engenharia de software, não há dados para os anos de 2014 e 2015. \n",
        "\n",
        "Além disso, não houve ingresso de discentes do sexo feminino em ciência da computação no ano de 2019.\n",
        "\n",
        "Vamos então considerar os dados para o sexo masculino a partir de 2016:"
      ]
    },
    {
      "cell_type": "code",
      "metadata": {
        "id": "yd6TKc9rMQ6A",
        "colab": {
          "base_uri": "https://localhost:8080/"
        },
        "outputId": "07ad78b9-6913-4a27-f230-4f43e6b10599"
      },
      "source": [
        "percentual_ti_masculino = percentual_ti.query(\"ano_ingresso >= 2016\")[\"M\"]\n",
        "percentual_ti_masculino"
      ],
      "execution_count": 23,
      "outputs": [
        {
          "output_type": "execute_result",
          "data": {
            "text/plain": [
              "nome_curso                ano_ingresso\n",
              "CIÊNCIA DA COMPUTAÇÃO     2016            0.750000\n",
              "                          2017            0.785714\n",
              "                          2018            0.777778\n",
              "                          2019            1.000000\n",
              "ENGENHARIA DE SOFTWARE    2016            0.833333\n",
              "                          2017            0.812500\n",
              "                          2018            0.928571\n",
              "                          2019            0.777778\n",
              "TECNOLOGIA DA INFORMAÇÃO  2016            0.911175\n",
              "                          2017            0.915408\n",
              "                          2018            0.870968\n",
              "                          2019            0.899713\n",
              "Name: M, dtype: float64"
            ]
          },
          "metadata": {
            "tags": []
          },
          "execution_count": 23
        }
      ]
    },
    {
      "cell_type": "markdown",
      "metadata": {
        "id": "GvXqBsa5wJo_"
      },
      "source": [
        "Uma série produzida a partir de um agrupamento de múltiplas características apresenta um índice hierárquico.\n",
        "\n",
        "O Pandas permite converter uma série assim em um dataframe usando o método `reset_index()`.\n",
        "\n",
        "Os nomes das colunas são reutilizados do índice hierárquico. A última coluna pode ser nomeada usando o argumento `name`):"
      ]
    },
    {
      "cell_type": "code",
      "metadata": {
        "id": "KC7RI3pvvgIA",
        "colab": {
          "base_uri": "https://localhost:8080/",
          "height": 421
        },
        "outputId": "435230c5-9ed8-431e-dfbe-cd63a8448f7c"
      },
      "source": [
        "dados_ti_masculino = percentual_ti_masculino.reset_index(name=\"total\")\n",
        "dados_ti_masculino"
      ],
      "execution_count": 24,
      "outputs": [
        {
          "output_type": "execute_result",
          "data": {
            "text/html": [
              "<div>\n",
              "<style scoped>\n",
              "    .dataframe tbody tr th:only-of-type {\n",
              "        vertical-align: middle;\n",
              "    }\n",
              "\n",
              "    .dataframe tbody tr th {\n",
              "        vertical-align: top;\n",
              "    }\n",
              "\n",
              "    .dataframe thead th {\n",
              "        text-align: right;\n",
              "    }\n",
              "</style>\n",
              "<table border=\"1\" class=\"dataframe\">\n",
              "  <thead>\n",
              "    <tr style=\"text-align: right;\">\n",
              "      <th></th>\n",
              "      <th>nome_curso</th>\n",
              "      <th>ano_ingresso</th>\n",
              "      <th>total</th>\n",
              "    </tr>\n",
              "  </thead>\n",
              "  <tbody>\n",
              "    <tr>\n",
              "      <th>0</th>\n",
              "      <td>CIÊNCIA DA COMPUTAÇÃO</td>\n",
              "      <td>2016</td>\n",
              "      <td>0.750000</td>\n",
              "    </tr>\n",
              "    <tr>\n",
              "      <th>1</th>\n",
              "      <td>CIÊNCIA DA COMPUTAÇÃO</td>\n",
              "      <td>2017</td>\n",
              "      <td>0.785714</td>\n",
              "    </tr>\n",
              "    <tr>\n",
              "      <th>2</th>\n",
              "      <td>CIÊNCIA DA COMPUTAÇÃO</td>\n",
              "      <td>2018</td>\n",
              "      <td>0.777778</td>\n",
              "    </tr>\n",
              "    <tr>\n",
              "      <th>3</th>\n",
              "      <td>CIÊNCIA DA COMPUTAÇÃO</td>\n",
              "      <td>2019</td>\n",
              "      <td>1.000000</td>\n",
              "    </tr>\n",
              "    <tr>\n",
              "      <th>4</th>\n",
              "      <td>ENGENHARIA DE SOFTWARE</td>\n",
              "      <td>2016</td>\n",
              "      <td>0.833333</td>\n",
              "    </tr>\n",
              "    <tr>\n",
              "      <th>5</th>\n",
              "      <td>ENGENHARIA DE SOFTWARE</td>\n",
              "      <td>2017</td>\n",
              "      <td>0.812500</td>\n",
              "    </tr>\n",
              "    <tr>\n",
              "      <th>6</th>\n",
              "      <td>ENGENHARIA DE SOFTWARE</td>\n",
              "      <td>2018</td>\n",
              "      <td>0.928571</td>\n",
              "    </tr>\n",
              "    <tr>\n",
              "      <th>7</th>\n",
              "      <td>ENGENHARIA DE SOFTWARE</td>\n",
              "      <td>2019</td>\n",
              "      <td>0.777778</td>\n",
              "    </tr>\n",
              "    <tr>\n",
              "      <th>8</th>\n",
              "      <td>TECNOLOGIA DA INFORMAÇÃO</td>\n",
              "      <td>2016</td>\n",
              "      <td>0.911175</td>\n",
              "    </tr>\n",
              "    <tr>\n",
              "      <th>9</th>\n",
              "      <td>TECNOLOGIA DA INFORMAÇÃO</td>\n",
              "      <td>2017</td>\n",
              "      <td>0.915408</td>\n",
              "    </tr>\n",
              "    <tr>\n",
              "      <th>10</th>\n",
              "      <td>TECNOLOGIA DA INFORMAÇÃO</td>\n",
              "      <td>2018</td>\n",
              "      <td>0.870968</td>\n",
              "    </tr>\n",
              "    <tr>\n",
              "      <th>11</th>\n",
              "      <td>TECNOLOGIA DA INFORMAÇÃO</td>\n",
              "      <td>2019</td>\n",
              "      <td>0.899713</td>\n",
              "    </tr>\n",
              "  </tbody>\n",
              "</table>\n",
              "</div>"
            ],
            "text/plain": [
              "                  nome_curso  ano_ingresso     total\n",
              "0      CIÊNCIA DA COMPUTAÇÃO          2016  0.750000\n",
              "1      CIÊNCIA DA COMPUTAÇÃO          2017  0.785714\n",
              "2      CIÊNCIA DA COMPUTAÇÃO          2018  0.777778\n",
              "3      CIÊNCIA DA COMPUTAÇÃO          2019  1.000000\n",
              "4     ENGENHARIA DE SOFTWARE          2016  0.833333\n",
              "5     ENGENHARIA DE SOFTWARE          2017  0.812500\n",
              "6     ENGENHARIA DE SOFTWARE          2018  0.928571\n",
              "7     ENGENHARIA DE SOFTWARE          2019  0.777778\n",
              "8   TECNOLOGIA DA INFORMAÇÃO          2016  0.911175\n",
              "9   TECNOLOGIA DA INFORMAÇÃO          2017  0.915408\n",
              "10  TECNOLOGIA DA INFORMAÇÃO          2018  0.870968\n",
              "11  TECNOLOGIA DA INFORMAÇÃO          2019  0.899713"
            ]
          },
          "metadata": {
            "tags": []
          },
          "execution_count": 24
        }
      ]
    },
    {
      "cell_type": "markdown",
      "metadata": {
        "id": "qjnYskUFx8wk"
      },
      "source": [
        "Com os dados organizados, podemos agora calcular a média de participação masculina nos cursos associados ao BTI considerando o período 2016-2019:"
      ]
    },
    {
      "cell_type": "code",
      "metadata": {
        "id": "RmxJydOQ6z1C",
        "colab": {
          "base_uri": "https://localhost:8080/",
          "height": 173
        },
        "outputId": "e831569d-2a42-4521-deb4-c60b11a7e83d"
      },
      "source": [
        "dados_ti_masculino.groupby(\"nome_curso\").mean()"
      ],
      "execution_count": 25,
      "outputs": [
        {
          "output_type": "execute_result",
          "data": {
            "text/html": [
              "<div>\n",
              "<style scoped>\n",
              "    .dataframe tbody tr th:only-of-type {\n",
              "        vertical-align: middle;\n",
              "    }\n",
              "\n",
              "    .dataframe tbody tr th {\n",
              "        vertical-align: top;\n",
              "    }\n",
              "\n",
              "    .dataframe thead th {\n",
              "        text-align: right;\n",
              "    }\n",
              "</style>\n",
              "<table border=\"1\" class=\"dataframe\">\n",
              "  <thead>\n",
              "    <tr style=\"text-align: right;\">\n",
              "      <th></th>\n",
              "      <th>ano_ingresso</th>\n",
              "      <th>total</th>\n",
              "    </tr>\n",
              "    <tr>\n",
              "      <th>nome_curso</th>\n",
              "      <th></th>\n",
              "      <th></th>\n",
              "    </tr>\n",
              "  </thead>\n",
              "  <tbody>\n",
              "    <tr>\n",
              "      <th>CIÊNCIA DA COMPUTAÇÃO</th>\n",
              "      <td>2017.5</td>\n",
              "      <td>0.828373</td>\n",
              "    </tr>\n",
              "    <tr>\n",
              "      <th>ENGENHARIA DE SOFTWARE</th>\n",
              "      <td>2017.5</td>\n",
              "      <td>0.838046</td>\n",
              "    </tr>\n",
              "    <tr>\n",
              "      <th>TECNOLOGIA DA INFORMAÇÃO</th>\n",
              "      <td>2017.5</td>\n",
              "      <td>0.899316</td>\n",
              "    </tr>\n",
              "  </tbody>\n",
              "</table>\n",
              "</div>"
            ],
            "text/plain": [
              "                          ano_ingresso     total\n",
              "nome_curso                                      \n",
              "CIÊNCIA DA COMPUTAÇÃO           2017.5  0.828373\n",
              "ENGENHARIA DE SOFTWARE          2017.5  0.838046\n",
              "TECNOLOGIA DA INFORMAÇÃO        2017.5  0.899316"
            ]
          },
          "metadata": {
            "tags": []
          },
          "execution_count": 25
        }
      ]
    },
    {
      "cell_type": "markdown",
      "metadata": {
        "id": "1l7_6VXVyH3K"
      },
      "source": [
        "Note que também está sendo calculada a média da coluna `ano_ingresso`.\n",
        "\n",
        "Isso acontece porque, ao ler os datasets da UFRN, o Pandas entendeu que deveria configurar esta coluna como numérica.\n",
        "\n",
        "Se quisermos impedir isso, devemos solicitar ao Pandas que trate essa coluna como uma característica ordinal:"
      ]
    },
    {
      "cell_type": "code",
      "metadata": {
        "id": "NJBxvMreRd_k",
        "colab": {
          "base_uri": "https://localhost:8080/",
          "height": 173
        },
        "outputId": "2b2ae503-3050-4796-cd9f-fe4743b61a0c"
      },
      "source": [
        "dados_ti_masculino.ano_ingresso = dados_ti_masculino.ano_ingresso.astype(str)\n",
        "dados_ti_masculino.groupby(\"nome_curso\").mean()"
      ],
      "execution_count": 26,
      "outputs": [
        {
          "output_type": "execute_result",
          "data": {
            "text/html": [
              "<div>\n",
              "<style scoped>\n",
              "    .dataframe tbody tr th:only-of-type {\n",
              "        vertical-align: middle;\n",
              "    }\n",
              "\n",
              "    .dataframe tbody tr th {\n",
              "        vertical-align: top;\n",
              "    }\n",
              "\n",
              "    .dataframe thead th {\n",
              "        text-align: right;\n",
              "    }\n",
              "</style>\n",
              "<table border=\"1\" class=\"dataframe\">\n",
              "  <thead>\n",
              "    <tr style=\"text-align: right;\">\n",
              "      <th></th>\n",
              "      <th>total</th>\n",
              "    </tr>\n",
              "    <tr>\n",
              "      <th>nome_curso</th>\n",
              "      <th></th>\n",
              "    </tr>\n",
              "  </thead>\n",
              "  <tbody>\n",
              "    <tr>\n",
              "      <th>CIÊNCIA DA COMPUTAÇÃO</th>\n",
              "      <td>0.828373</td>\n",
              "    </tr>\n",
              "    <tr>\n",
              "      <th>ENGENHARIA DE SOFTWARE</th>\n",
              "      <td>0.838046</td>\n",
              "    </tr>\n",
              "    <tr>\n",
              "      <th>TECNOLOGIA DA INFORMAÇÃO</th>\n",
              "      <td>0.899316</td>\n",
              "    </tr>\n",
              "  </tbody>\n",
              "</table>\n",
              "</div>"
            ],
            "text/plain": [
              "                             total\n",
              "nome_curso                        \n",
              "CIÊNCIA DA COMPUTAÇÃO     0.828373\n",
              "ENGENHARIA DE SOFTWARE    0.838046\n",
              "TECNOLOGIA DA INFORMAÇÃO  0.899316"
            ]
          },
          "metadata": {
            "tags": []
          },
          "execution_count": 26
        }
      ]
    },
    {
      "cell_type": "markdown",
      "metadata": {
        "id": "IZEI512Jy9To"
      },
      "source": [
        "Na média, os três cursos apresentam diversidade insatisfatória. No entanto, fica claro que os cursos de segundo ciclo apresentam uma situação menos crítica que o BTI.\n",
        "\n",
        "Vamos olhar a evolução deste fator nos três cursos usando o `lineplot()` mais uma vez.\n",
        "\n",
        "Neste exemplo, vamos configurar o tamanho do gráfico usando o método `plt.figure(figsize=(largura, altura))`."
      ]
    },
    {
      "cell_type": "code",
      "metadata": {
        "id": "4VTipaH0JW8-",
        "colab": {
          "base_uri": "https://localhost:8080/",
          "height": 427
        },
        "outputId": "70605b9f-db68-47b3-86c1-24d3210a20e3"
      },
      "source": [
        "plt.figure(figsize=(6, 6))\n",
        "plot_it = sns.lineplot(x=\"ano_ingresso\", y=\"total\", hue=\"nome_curso\", data=dados_ti_masculino)\n",
        "plot_it.set(ylim=(0,1))\n",
        "plt.xlabel(\"Ano\")\n",
        "plt.ylabel(\"Percentual\")\n",
        "plt.title(\"Discentes do sexo masculino por ano de ingresso\")"
      ],
      "execution_count": 27,
      "outputs": [
        {
          "output_type": "execute_result",
          "data": {
            "text/plain": [
              "Text(0.5, 1.0, 'Discentes do sexo masculino por ano de ingresso')"
            ]
          },
          "metadata": {
            "tags": []
          },
          "execution_count": 27
        },
        {
          "output_type": "display_data",
          "data": {
            "image/png": "[encoded data removed]",
            "text/plain": [
              "<Figure size 432x432 with 1 Axes>"
            ]
          },
          "metadata": {
            "tags": []
          }
        }
      ]
    },
    {
      "cell_type": "markdown",
      "metadata": {
        "id": "j4C2-ltzE295"
      },
      "source": [
        "## Avaliando a diversidade na UFRN"
      ]
    },
    {
      "cell_type": "markdown",
      "metadata": {
        "id": "Z_h-PLrheJ8e"
      },
      "source": [
        "Como podemos ver, a diversidade nos cursos relacionados ao BTI não anda bem.\n",
        "\n",
        "Mas será que essa é a realidade mais geral da UFRN?\n",
        "\n",
        "Vamos expandir nossa análise para considerar todas as unidades acadêmicas da universidade.\n",
        "\n",
        "Novamente, começamos verificando a existência de dados faltando:"
      ]
    },
    {
      "cell_type": "code",
      "metadata": {
        "id": "Fy9WO6vBr6ug",
        "colab": {
          "base_uri": "https://localhost:8080/"
        },
        "outputId": "eed00f13-81fb-4a9e-d460-ca8d5ec7ac0d"
      },
      "source": [
        "dados.isnull().sum()"
      ],
      "execution_count": 28,
      "outputs": [
        {
          "output_type": "execute_result",
          "data": {
            "text/plain": [
              "matricula                  0\n",
              "nome_discente              0\n",
              "sexo                       0\n",
              "ano_ingresso               0\n",
              "periodo_ingresso         244\n",
              "forma_ingresso           222\n",
              "tipo_discente              0\n",
              "status                     0\n",
              "sigla_nivel_ensino         0\n",
              "nivel_ensino               0\n",
              "id_curso                8632\n",
              "nome_curso              8632\n",
              "modalidade_educacao     8632\n",
              "id_unidade              8632\n",
              "nome_unidade            8632\n",
              "id_unidade_gestora      8632\n",
              "nome_unidade_gestora    8632\n",
              "dtype: int64"
            ]
          },
          "metadata": {
            "tags": []
          },
          "execution_count": 28
        }
      ]
    },
    {
      "cell_type": "markdown",
      "metadata": {
        "id": "gOLxYX-JeZtP"
      },
      "source": [
        "Quando identificamos a ausência de dados, podemos tentar preenchê-los ou descartar as observações afetadas.\n",
        "\n",
        "Pela elevada quantidade de dados faltando, tentar preencher esses dados se torna difícil.\n",
        "\n",
        "Assim, vamos optar por analisar apenas os casos em que o nome da unidade foi informada:"
      ]
    },
    {
      "cell_type": "code",
      "metadata": {
        "id": "tsvMzH5NTYrX"
      },
      "source": [
        "dados_não_nulos = dados[~dados[\"nome_unidade\"].isnull()]"
      ],
      "execution_count": 29,
      "outputs": []
    },
    {
      "cell_type": "markdown",
      "metadata": {
        "id": "Hwfitslyfp0r"
      },
      "source": [
        "Outro recorte importante é limitar nossa análise a cursos de graduação:"
      ]
    },
    {
      "cell_type": "code",
      "metadata": {
        "id": "GgCWR3dbTVMr"
      },
      "source": [
        "dados_graduação = dados_não_nulos.query(\"nivel_ensino == 'GRADUAÇÃO'\")"
      ],
      "execution_count": 30,
      "outputs": []
    },
    {
      "cell_type": "markdown",
      "metadata": {
        "id": "8ITKRLVdfwzz"
      },
      "source": [
        "Após esses filtros, vamos ver quantas unidades restaram.\n",
        "\n",
        "Podemos fazer isso usando o procedimento `len`, que conta a quantidade de elementos em uma lista:"
      ]
    },
    {
      "cell_type": "code",
      "metadata": {
        "id": "QtkVaydjTUXF",
        "colab": {
          "base_uri": "https://localhost:8080/"
        },
        "outputId": "fbf1e020-0fb6-49fd-cae5-83fe5a3ff613"
      },
      "source": [
        "nomes_unidades = dados_graduação[\"nome_unidade\"].unique()\n",
        "len(nomes_unidades)"
      ],
      "execution_count": 31,
      "outputs": [
        {
          "output_type": "execute_result",
          "data": {
            "text/plain": [
              "16"
            ]
          },
          "metadata": {
            "tags": []
          },
          "execution_count": 31
        }
      ]
    },
    {
      "cell_type": "code",
      "metadata": {
        "id": "NDyJnUIWUz-Q",
        "colab": {
          "base_uri": "https://localhost:8080/"
        },
        "outputId": "cf67426d-d47e-45e7-ce8b-bac99e4dac6d"
      },
      "source": [
        "nomes_unidades"
      ],
      "execution_count": 32,
      "outputs": [
        {
          "output_type": "execute_result",
          "data": {
            "text/plain": [
              "array(['CENTRO DE  ENSINO SUPERIOR DO SERIDÓ',\n",
              "       'CENTRO DE CIÊNCIAS HUMANAS, LETRAS E ARTES',\n",
              "       'CENTRO DE CIÊNCIAS DA SAÚDE',\n",
              "       'CENTRO DE CIÊNCIAS EXATAS E DA TERRA',\n",
              "       'ESCOLA DE CIÊNCIAS E TECNOLOGIA',\n",
              "       'CENTRO DE CIÊNCIAS SOCIAIS APLICADAS',\n",
              "       'INSTITUTO METROPOLE DIGITAL',\n",
              "       'FACULDADE DE CIÊNCIAS DA SAÚDE DO TRAIRI - FACISA',\n",
              "       'CENTRO DE EDUCAÇÃO', 'ESCOLA DE MÚSICA', 'CENTRO DE TECNOLOGIA',\n",
              "       'CENTRO DE BIOCIÊNCIAS', 'ESCOLA AGRÍCOLA DE JUNDIAÍ',\n",
              "       'ESCOLA DE SAÚDE',\n",
              "       'ESCOLA MULTICAMPI DE CIÊNCIAS MÉDICAS DO RIO GRANDE DO NORTE',\n",
              "       'FACULDADE DE ENGENHARIA, LETRAS E CIÊNCIAS SOCIAIS DO SERIDÓ - FELCS'],\n",
              "      dtype=object)"
            ]
          },
          "metadata": {
            "tags": []
          },
          "execution_count": 32
        }
      ]
    },
    {
      "cell_type": "markdown",
      "metadata": {
        "id": "chNqj7BJf9kd"
      },
      "source": [
        "Ainda no etapa de validação de dados, vamos ver se há dados inválidos na característica `sexo`.\n",
        "\n",
        "Podemos fazer isso usando o procedimento `all(condição)`, que avalia se não houve quebra da condição informada: "
      ]
    },
    {
      "cell_type": "code",
      "metadata": {
        "id": "1SqTLFqPgUPy",
        "colab": {
          "base_uri": "https://localhost:8080/"
        },
        "outputId": "3fbd1512-6f4c-4e9f-c9d9-d0e36ecbf52c"
      },
      "source": [
        "condição_sexo = dados_graduação[\"sexo\"].isin([\"M\",\"F\"])\n",
        "all(condição_sexo)"
      ],
      "execution_count": 33,
      "outputs": [
        {
          "output_type": "execute_result",
          "data": {
            "text/plain": [
              "False"
            ]
          },
          "metadata": {
            "tags": []
          },
          "execution_count": 33
        }
      ]
    },
    {
      "cell_type": "markdown",
      "metadata": {
        "id": "v5_YLmA3gzd2"
      },
      "source": [
        "Mantemos, então, apenas as entradas válidas:"
      ]
    },
    {
      "cell_type": "code",
      "metadata": {
        "id": "IonSBmUHgcZy"
      },
      "source": [
        "dados_graduação = dados_graduação[condição_sexo]"
      ],
      "execution_count": 34,
      "outputs": []
    },
    {
      "cell_type": "markdown",
      "metadata": {
        "id": "OzgpWgI1g65r"
      },
      "source": [
        "Baseado nas experiências anteriores, qual o próximo passo em nossa análise?"
      ]
    },
    {
      "cell_type": "code",
      "metadata": {
        "id": "6EGYLOc6TTYm",
        "colab": {
          "base_uri": "https://localhost:8080/",
          "height": 576
        },
        "outputId": "ffee22f4-2003-4427-c126-91762dad482a"
      },
      "source": [
        "percentual_graduação = pd.crosstab(dados_graduação[\"nome_unidade\"], dados_graduação[\"sexo\"], normalize=\"index\")\n",
        "percentual_graduação"
      ],
      "execution_count": 35,
      "outputs": [
        {
          "output_type": "execute_result",
          "data": {
            "text/html": [
              "<div>\n",
              "<style scoped>\n",
              "    .dataframe tbody tr th:only-of-type {\n",
              "        vertical-align: middle;\n",
              "    }\n",
              "\n",
              "    .dataframe tbody tr th {\n",
              "        vertical-align: top;\n",
              "    }\n",
              "\n",
              "    .dataframe thead th {\n",
              "        text-align: right;\n",
              "    }\n",
              "</style>\n",
              "<table border=\"1\" class=\"dataframe\">\n",
              "  <thead>\n",
              "    <tr style=\"text-align: right;\">\n",
              "      <th>sexo</th>\n",
              "      <th>F</th>\n",
              "      <th>M</th>\n",
              "    </tr>\n",
              "    <tr>\n",
              "      <th>nome_unidade</th>\n",
              "      <th></th>\n",
              "      <th></th>\n",
              "    </tr>\n",
              "  </thead>\n",
              "  <tbody>\n",
              "    <tr>\n",
              "      <th>CENTRO DE  ENSINO SUPERIOR DO SERIDÓ</th>\n",
              "      <td>0.448145</td>\n",
              "      <td>0.551855</td>\n",
              "    </tr>\n",
              "    <tr>\n",
              "      <th>CENTRO DE BIOCIÊNCIAS</th>\n",
              "      <td>0.555275</td>\n",
              "      <td>0.444725</td>\n",
              "    </tr>\n",
              "    <tr>\n",
              "      <th>CENTRO DE CIÊNCIAS DA SAÚDE</th>\n",
              "      <td>0.592516</td>\n",
              "      <td>0.407484</td>\n",
              "    </tr>\n",
              "    <tr>\n",
              "      <th>CENTRO DE CIÊNCIAS EXATAS E DA TERRA</th>\n",
              "      <td>0.310626</td>\n",
              "      <td>0.689374</td>\n",
              "    </tr>\n",
              "    <tr>\n",
              "      <th>CENTRO DE CIÊNCIAS HUMANAS, LETRAS E ARTES</th>\n",
              "      <td>0.494932</td>\n",
              "      <td>0.505068</td>\n",
              "    </tr>\n",
              "    <tr>\n",
              "      <th>CENTRO DE CIÊNCIAS SOCIAIS APLICADAS</th>\n",
              "      <td>0.465544</td>\n",
              "      <td>0.534456</td>\n",
              "    </tr>\n",
              "    <tr>\n",
              "      <th>CENTRO DE EDUCAÇÃO</th>\n",
              "      <td>0.767807</td>\n",
              "      <td>0.232193</td>\n",
              "    </tr>\n",
              "    <tr>\n",
              "      <th>CENTRO DE TECNOLOGIA</th>\n",
              "      <td>0.322289</td>\n",
              "      <td>0.677711</td>\n",
              "    </tr>\n",
              "    <tr>\n",
              "      <th>ESCOLA AGRÍCOLA DE JUNDIAÍ</th>\n",
              "      <td>0.382543</td>\n",
              "      <td>0.617457</td>\n",
              "    </tr>\n",
              "    <tr>\n",
              "      <th>ESCOLA DE CIÊNCIAS E TECNOLOGIA</th>\n",
              "      <td>0.230393</td>\n",
              "      <td>0.769607</td>\n",
              "    </tr>\n",
              "    <tr>\n",
              "      <th>ESCOLA DE MÚSICA</th>\n",
              "      <td>0.257212</td>\n",
              "      <td>0.742788</td>\n",
              "    </tr>\n",
              "    <tr>\n",
              "      <th>ESCOLA DE SAÚDE</th>\n",
              "      <td>0.698444</td>\n",
              "      <td>0.301556</td>\n",
              "    </tr>\n",
              "    <tr>\n",
              "      <th>ESCOLA MULTICAMPI DE CIÊNCIAS MÉDICAS DO RIO GRANDE DO NORTE</th>\n",
              "      <td>0.437500</td>\n",
              "      <td>0.562500</td>\n",
              "    </tr>\n",
              "    <tr>\n",
              "      <th>FACULDADE DE CIÊNCIAS DA SAÚDE DO TRAIRI - FACISA</th>\n",
              "      <td>0.708417</td>\n",
              "      <td>0.291583</td>\n",
              "    </tr>\n",
              "    <tr>\n",
              "      <th>FACULDADE DE ENGENHARIA, LETRAS E CIÊNCIAS SOCIAIS DO SERIDÓ - FELCS</th>\n",
              "      <td>0.579247</td>\n",
              "      <td>0.420753</td>\n",
              "    </tr>\n",
              "    <tr>\n",
              "      <th>INSTITUTO METROPOLE DIGITAL</th>\n",
              "      <td>0.103745</td>\n",
              "      <td>0.896255</td>\n",
              "    </tr>\n",
              "  </tbody>\n",
              "</table>\n",
              "</div>"
            ],
            "text/plain": [
              "sexo                                                       F         M\n",
              "nome_unidade                                                          \n",
              "CENTRO DE  ENSINO SUPERIOR DO SERIDÓ                0.448145  0.551855\n",
              "CENTRO DE BIOCIÊNCIAS                               0.555275  0.444725\n",
              "CENTRO DE CIÊNCIAS DA SAÚDE                         0.592516  0.407484\n",
              "CENTRO DE CIÊNCIAS EXATAS E DA TERRA                0.310626  0.689374\n",
              "CENTRO DE CIÊNCIAS HUMANAS, LETRAS E ARTES          0.494932  0.505068\n",
              "CENTRO DE CIÊNCIAS SOCIAIS APLICADAS                0.465544  0.534456\n",
              "CENTRO DE EDUCAÇÃO                                  0.767807  0.232193\n",
              "CENTRO DE TECNOLOGIA                                0.322289  0.677711\n",
              "ESCOLA AGRÍCOLA DE JUNDIAÍ                          0.382543  0.617457\n",
              "ESCOLA DE CIÊNCIAS E TECNOLOGIA                     0.230393  0.769607\n",
              "ESCOLA DE MÚSICA                                    0.257212  0.742788\n",
              "ESCOLA DE SAÚDE                                     0.698444  0.301556\n",
              "ESCOLA MULTICAMPI DE CIÊNCIAS MÉDICAS DO RIO GR...  0.437500  0.562500\n",
              "FACULDADE DE CIÊNCIAS DA SAÚDE DO TRAIRI - FACISA   0.708417  0.291583\n",
              "FACULDADE DE ENGENHARIA, LETRAS E CIÊNCIAS SOCI...  0.579247  0.420753\n",
              "INSTITUTO METROPOLE DIGITAL                         0.103745  0.896255"
            ]
          },
          "metadata": {
            "tags": []
          },
          "execution_count": 35
        }
      ]
    },
    {
      "cell_type": "markdown",
      "metadata": {
        "id": "nPg7DffchCCl"
      },
      "source": [
        "Vamos isolar apenas os dados referentes ao público feminino.\n",
        "\n",
        "Além disto, vamos ordenar estes valores em ordem crescente usando o método `sort_values()`:"
      ]
    },
    {
      "cell_type": "code",
      "metadata": {
        "id": "LBv-V_UpTSHo",
        "colab": {
          "base_uri": "https://localhost:8080/"
        },
        "outputId": "4fa8a72c-97a3-46c1-eedb-be77cf69158e"
      },
      "source": [
        "dados_graduação_feminino = percentual_graduação[\"F\"].sort_values()\n",
        "dados_graduação_feminino"
      ],
      "execution_count": 36,
      "outputs": [
        {
          "output_type": "execute_result",
          "data": {
            "text/plain": [
              "nome_unidade\n",
              "INSTITUTO METROPOLE DIGITAL                                             0.103745\n",
              "ESCOLA DE CIÊNCIAS E TECNOLOGIA                                         0.230393\n",
              "ESCOLA DE MÚSICA                                                        0.257212\n",
              "CENTRO DE CIÊNCIAS EXATAS E DA TERRA                                    0.310626\n",
              "CENTRO DE TECNOLOGIA                                                    0.322289\n",
              "ESCOLA AGRÍCOLA DE JUNDIAÍ                                              0.382543\n",
              "ESCOLA MULTICAMPI DE CIÊNCIAS MÉDICAS DO RIO GRANDE DO NORTE            0.437500\n",
              "CENTRO DE  ENSINO SUPERIOR DO SERIDÓ                                    0.448145\n",
              "CENTRO DE CIÊNCIAS SOCIAIS APLICADAS                                    0.465544\n",
              "CENTRO DE CIÊNCIAS HUMANAS, LETRAS E ARTES                              0.494932\n",
              "CENTRO DE BIOCIÊNCIAS                                                   0.555275\n",
              "FACULDADE DE ENGENHARIA, LETRAS E CIÊNCIAS SOCIAIS DO SERIDÓ - FELCS    0.579247\n",
              "CENTRO DE CIÊNCIAS DA SAÚDE                                             0.592516\n",
              "ESCOLA DE SAÚDE                                                         0.698444\n",
              "FACULDADE DE CIÊNCIAS DA SAÚDE DO TRAIRI - FACISA                       0.708417\n",
              "CENTRO DE EDUCAÇÃO                                                      0.767807\n",
              "Name: F, dtype: float64"
            ]
          },
          "metadata": {
            "tags": []
          },
          "execution_count": 36
        }
      ]
    },
    {
      "cell_type": "markdown",
      "metadata": {
        "id": "SaKPq3cmhsRZ"
      },
      "source": [
        "Os valores mínimo e máximo para o percentual de mulheres estão bastante separados.\n",
        "\n",
        "Vamos dar uma olhada em estatísticas descritivas sobre essa série:"
      ]
    },
    {
      "cell_type": "code",
      "metadata": {
        "id": "kHywH7dTTRsO",
        "colab": {
          "base_uri": "https://localhost:8080/"
        },
        "outputId": "88c280ad-c370-4a2e-fa46-586201fe3582"
      },
      "source": [
        "dados_graduação_feminino.describe()"
      ],
      "execution_count": 37,
      "outputs": [
        {
          "output_type": "execute_result",
          "data": {
            "text/plain": [
              "count    16.000000\n",
              "mean      0.459665\n",
              "std       0.186923\n",
              "min       0.103745\n",
              "25%       0.319373\n",
              "50%       0.456845\n",
              "75%       0.582565\n",
              "max       0.767807\n",
              "Name: F, dtype: float64"
            ]
          },
          "metadata": {
            "tags": []
          },
          "execution_count": 37
        }
      ]
    },
    {
      "cell_type": "markdown",
      "metadata": {
        "id": "t1KPqv04iuT1"
      },
      "source": [
        "A média e a mediana encontram-se próximas a 50%, o que é um dado interessante.\n",
        "\n",
        "No entanto, o desvio padrão de 20% é bastante elevado.\n",
        "\n",
        "Vamos ver quais cursos ficaram abaixo do primeiro quartil:"
      ]
    },
    {
      "cell_type": "code",
      "metadata": {
        "id": "REBIe1YHUwHy",
        "colab": {
          "base_uri": "https://localhost:8080/"
        },
        "outputId": "e78da33e-6a5c-4a1d-dc0f-a9071a8409c1"
      },
      "source": [
        "dados_graduação_feminino[dados_graduação_feminino <= dados_graduação_feminino.quantile(0.25)]"
      ],
      "execution_count": 38,
      "outputs": [
        {
          "output_type": "execute_result",
          "data": {
            "text/plain": [
              "nome_unidade\n",
              "INSTITUTO METROPOLE DIGITAL             0.103745\n",
              "ESCOLA DE CIÊNCIAS E TECNOLOGIA         0.230393\n",
              "ESCOLA DE MÚSICA                        0.257212\n",
              "CENTRO DE CIÊNCIAS EXATAS E DA TERRA    0.310626\n",
              "Name: F, dtype: float64"
            ]
          },
          "metadata": {
            "tags": []
          },
          "execution_count": 38
        }
      ]
    },
    {
      "cell_type": "markdown",
      "metadata": {
        "id": "Ahw5ZnLtj7hw"
      },
      "source": [
        "Em geral, são cursos relacionados a ciências exatas, engenharia e tecnologias. \n",
        "\n",
        "Essa é uma realidade conhecida, mas surpreende que cursos de música também estejam nesse grupo.\n",
        "\n",
        "E quais ficaram acima do terceiro quartil?"
      ]
    },
    {
      "cell_type": "code",
      "metadata": {
        "id": "m-knzpk9Ypaj",
        "colab": {
          "base_uri": "https://localhost:8080/"
        },
        "outputId": "3ed3f6e7-72ef-4a78-920f-c27c0d777e9d"
      },
      "source": [
        "dados_graduação_feminino[dados_graduação_feminino >= dados_graduação_feminino.quantile(0.75)]"
      ],
      "execution_count": 39,
      "outputs": [
        {
          "output_type": "execute_result",
          "data": {
            "text/plain": [
              "nome_unidade\n",
              "CENTRO DE CIÊNCIAS DA SAÚDE                          0.592516\n",
              "ESCOLA DE SAÚDE                                      0.698444\n",
              "FACULDADE DE CIÊNCIAS DA SAÚDE DO TRAIRI - FACISA    0.708417\n",
              "CENTRO DE EDUCAÇÃO                                   0.767807\n",
              "Name: F, dtype: float64"
            ]
          },
          "metadata": {
            "tags": []
          },
          "execution_count": 39
        }
      ]
    },
    {
      "cell_type": "markdown",
      "metadata": {
        "id": "hwKmntRjjqve"
      },
      "source": [
        "Cursos da área de sáude e educação, outra realidade assimilada na universidade.\n",
        "\n",
        "Para termos a visão completa, vamos usar o método `distplot` do seaborn para analisar a distribuição dos dados e compará-la com uma distribuição normal.\n",
        "\n",
        "Para isso, precisaremos do método norm do da biblioteca `scipy`:"
      ]
    },
    {
      "cell_type": "code",
      "metadata": {
        "id": "cPA3XHfuTPhD"
      },
      "source": [
        "from scipy.stats import norm"
      ],
      "execution_count": 40,
      "outputs": []
    },
    {
      "cell_type": "code",
      "metadata": {
        "id": "OlCG4IAxMv0T",
        "colab": {
          "base_uri": "https://localhost:8080/",
          "height": 372
        },
        "outputId": "8dbeb97d-0c11-4023-eec6-abf341351447"
      },
      "source": [
        "sns.distplot(dados_graduação_feminino, fit=norm, bins=10)\n",
        "plt.ylabel(\"Quantidade de unidades\")\n",
        "plt.xlabel(\"Percentual\")\n",
        "plt.title(\"Discentes de graduação do sexo feminino por unidade acadêmica\")"
      ],
      "execution_count": 41,
      "outputs": [
        {
          "output_type": "stream",
          "text": [
            "/usr/local/lib/python3.7/dist-packages/seaborn/distributions.py:2557: FutureWarning: `distplot` is a deprecated function and will be removed in a future version. Please adapt your code to use either `displot` (a figure-level function with similar flexibility) or `histplot` (an axes-level function for histograms).\n",
            "  warnings.warn(msg, FutureWarning)\n"
          ],
          "name": "stderr"
        },
        {
          "output_type": "execute_result",
          "data": {
            "text/plain": [
              "Text(0.5, 1.0, 'Discentes de graduação do sexo feminino por unidade acadêmica')"
            ]
          },
          "metadata": {
            "tags": []
          },
          "execution_count": 41
        },
        {
          "output_type": "display_data",
          "data": {
            "image/png": "[encoded data removed]",
            "text/plain": [
              "<Figure size 432x288 with 1 Axes>"
            ]
          },
          "metadata": {
            "tags": []
          }
        }
      ]
    },
    {
      "cell_type": "markdown",
      "metadata": {
        "id": "ZVXiI12Qkyjq"
      },
      "source": [
        "Entendendo o código acima, a opção `fit=norm` gera a distribuição normal de referência para comparação, em preto.\n",
        "\n",
        "Por sua vez, a opção `bins=10` configura quantos intervalos serão considerados pelo histograma.\n",
        "\n",
        "Interpretando o gráfico, chegamos à hipotese de que haja três grandes grupos de cursos, sendo que apenas um representa uma situação de diversidade.\n",
        "\n",
        "Vamos tentar avaliar essa hipótese com um maior refinamento, partindo para uma análise dos cursos da UFRN:"
      ]
    },
    {
      "cell_type": "code",
      "metadata": {
        "id": "WXiFEWoI9vYz",
        "colab": {
          "base_uri": "https://localhost:8080/"
        },
        "outputId": "52d4d240-bcb0-4323-ecbe-e9648424e909"
      },
      "source": [
        "len(dados_graduação[\"nome_curso\"].unique())"
      ],
      "execution_count": 42,
      "outputs": [
        {
          "output_type": "execute_result",
          "data": {
            "text/plain": [
              "81"
            ]
          },
          "metadata": {
            "tags": []
          },
          "execution_count": 42
        }
      ]
    },
    {
      "cell_type": "markdown",
      "metadata": {
        "id": "apUaUPq9nHbW"
      },
      "source": [
        "Aqui cabe uma ressalva: os datasets apontam 82 nomes de cursos diferentes, mas existem mais de 120 cursos de graduação na UFRN.\n",
        "\n",
        "O motivo para o número menor é que cursos de licenciatura e bacharelado não são distinguidos pelo nome nestes datasets.\n",
        "\n",
        "Continuando nossa análise:"
      ]
    },
    {
      "cell_type": "code",
      "metadata": {
        "id": "UrLx3hUz9vG_",
        "colab": {
          "base_uri": "https://localhost:8080/",
          "height": 450
        },
        "outputId": "99258f24-e9fb-468d-e029-a6cf25c482bd"
      },
      "source": [
        "percentual_cursos = pd.crosstab(dados_graduação[\"nome_curso\"], dados_graduação[\"sexo\"], normalize=\"index\")\n",
        "percentual_cursos"
      ],
      "execution_count": 43,
      "outputs": [
        {
          "output_type": "execute_result",
          "data": {
            "text/html": [
              "<div>\n",
              "<style scoped>\n",
              "    .dataframe tbody tr th:only-of-type {\n",
              "        vertical-align: middle;\n",
              "    }\n",
              "\n",
              "    .dataframe tbody tr th {\n",
              "        vertical-align: top;\n",
              "    }\n",
              "\n",
              "    .dataframe thead th {\n",
              "        text-align: right;\n",
              "    }\n",
              "</style>\n",
              "<table border=\"1\" class=\"dataframe\">\n",
              "  <thead>\n",
              "    <tr style=\"text-align: right;\">\n",
              "      <th>sexo</th>\n",
              "      <th>F</th>\n",
              "      <th>M</th>\n",
              "    </tr>\n",
              "    <tr>\n",
              "      <th>nome_curso</th>\n",
              "      <th></th>\n",
              "      <th></th>\n",
              "    </tr>\n",
              "  </thead>\n",
              "  <tbody>\n",
              "    <tr>\n",
              "      <th>ADMINISTRAÇÃO</th>\n",
              "      <td>0.421310</td>\n",
              "      <td>0.578690</td>\n",
              "    </tr>\n",
              "    <tr>\n",
              "      <th>ADMINISTRAÇÃO PÚBLICA</th>\n",
              "      <td>0.405000</td>\n",
              "      <td>0.595000</td>\n",
              "    </tr>\n",
              "    <tr>\n",
              "      <th>ANÁLISE E DESENVOLVIMENTO DE SISTEMAS</th>\n",
              "      <td>0.196970</td>\n",
              "      <td>0.803030</td>\n",
              "    </tr>\n",
              "    <tr>\n",
              "      <th>ARQUITETURA E URBANISMO</th>\n",
              "      <td>0.680451</td>\n",
              "      <td>0.319549</td>\n",
              "    </tr>\n",
              "    <tr>\n",
              "      <th>ARTES VISUAIS</th>\n",
              "      <td>0.585551</td>\n",
              "      <td>0.414449</td>\n",
              "    </tr>\n",
              "    <tr>\n",
              "      <th>...</th>\n",
              "      <td>...</td>\n",
              "      <td>...</td>\n",
              "    </tr>\n",
              "    <tr>\n",
              "      <th>SISTEMAS DE INFORMAÇÃO</th>\n",
              "      <td>0.163194</td>\n",
              "      <td>0.836806</td>\n",
              "    </tr>\n",
              "    <tr>\n",
              "      <th>TEATRO</th>\n",
              "      <td>0.452586</td>\n",
              "      <td>0.547414</td>\n",
              "    </tr>\n",
              "    <tr>\n",
              "      <th>TECNOLOGIA DA INFORMAÇÃO</th>\n",
              "      <td>0.103745</td>\n",
              "      <td>0.896255</td>\n",
              "    </tr>\n",
              "    <tr>\n",
              "      <th>TURISMO</th>\n",
              "      <td>0.571429</td>\n",
              "      <td>0.428571</td>\n",
              "    </tr>\n",
              "    <tr>\n",
              "      <th>ZOOTECNIA</th>\n",
              "      <td>0.567568</td>\n",
              "      <td>0.432432</td>\n",
              "    </tr>\n",
              "  </tbody>\n",
              "</table>\n",
              "<p>81 rows × 2 columns</p>\n",
              "</div>"
            ],
            "text/plain": [
              "sexo                                          F         M\n",
              "nome_curso                                               \n",
              "ADMINISTRAÇÃO                          0.421310  0.578690\n",
              "ADMINISTRAÇÃO PÚBLICA                  0.405000  0.595000\n",
              "ANÁLISE E DESENVOLVIMENTO DE SISTEMAS  0.196970  0.803030\n",
              "ARQUITETURA E URBANISMO                0.680451  0.319549\n",
              "ARTES VISUAIS                          0.585551  0.414449\n",
              "...                                         ...       ...\n",
              "SISTEMAS DE INFORMAÇÃO                 0.163194  0.836806\n",
              "TEATRO                                 0.452586  0.547414\n",
              "TECNOLOGIA DA INFORMAÇÃO               0.103745  0.896255\n",
              "TURISMO                                0.571429  0.428571\n",
              "ZOOTECNIA                              0.567568  0.432432\n",
              "\n",
              "[81 rows x 2 columns]"
            ]
          },
          "metadata": {
            "tags": []
          },
          "execution_count": 43
        }
      ]
    },
    {
      "cell_type": "markdown",
      "metadata": {
        "id": "4U-jefbZoWOz"
      },
      "source": [
        "Selecionando apenas os dados para o público feminino e os ordenando:"
      ]
    },
    {
      "cell_type": "code",
      "metadata": {
        "id": "auUCD7Tb9ufm",
        "colab": {
          "base_uri": "https://localhost:8080/"
        },
        "outputId": "0f4df04d-2c32-47a7-8596-e33ac98d9a0f"
      },
      "source": [
        "dados_cursos_feminino = percentual_cursos[\"F\"].sort_values()\n",
        "dados_cursos_feminino"
      ],
      "execution_count": 44,
      "outputs": [
        {
          "output_type": "execute_result",
          "data": {
            "text/plain": [
              "nome_curso\n",
              "TECNOLOGIA DA INFORMAÇÃO          0.103745\n",
              "ENGENHARIA DE TELECOMUNICAÇÕES    0.117647\n",
              "ENGENHARIA MECATRÔNICA            0.139535\n",
              "ENGENHARIA DE SOFTWARE            0.155844\n",
              "ENGENHARIA DE COMPUTAÇÃO          0.159664\n",
              "                                    ...   \n",
              "PEDAGOGIA                         0.779475\n",
              "NUTRIÇÃO                          0.790219\n",
              "FONOAUDIOLOGIA                    0.852140\n",
              "SERVIÇO SOCIAL                    0.871022\n",
              "LETRAS -                          0.875000\n",
              "Name: F, Length: 81, dtype: float64"
            ]
          },
          "metadata": {
            "tags": []
          },
          "execution_count": 44
        }
      ]
    },
    {
      "cell_type": "markdown",
      "metadata": {
        "id": "ekUnyBcgoqY8"
      },
      "source": [
        "Novamente, cursos de engenharias, tecnologia, saúde e educação aparecem como os menos diversos.\n",
        "\n",
        "Vamos analisar algumas estatísticas descritivas dessa série:"
      ]
    },
    {
      "cell_type": "code",
      "metadata": {
        "id": "UvqrjwIPam62",
        "colab": {
          "base_uri": "https://localhost:8080/"
        },
        "outputId": "04464079-f6f6-4161-b5fd-cc3a94f4e629"
      },
      "source": [
        "dados_cursos_feminino.describe()"
      ],
      "execution_count": 45,
      "outputs": [
        {
          "output_type": "execute_result",
          "data": {
            "text/plain": [
              "count    81.000000\n",
              "mean      0.462116\n",
              "std       0.193863\n",
              "min       0.103745\n",
              "25%       0.321608\n",
              "50%       0.452586\n",
              "75%       0.604478\n",
              "max       0.875000\n",
              "Name: F, dtype: float64"
            ]
          },
          "metadata": {
            "tags": []
          },
          "execution_count": 45
        }
      ]
    },
    {
      "cell_type": "markdown",
      "metadata": {
        "id": "vw7KboWEo-R0"
      },
      "source": [
        "Mais uma vez, a média e o desvio padrão estão próximas a 50% e o desvio padrão na casa de 20%.\n",
        "\n",
        "Vamos ver quais os cursos abaixo do primeiro quartil:"
      ]
    },
    {
      "cell_type": "code",
      "metadata": {
        "id": "b_2b1ygNo6fo",
        "colab": {
          "base_uri": "https://localhost:8080/"
        },
        "outputId": "47b21078-031c-43a1-e196-edd4142a99d7"
      },
      "source": [
        "dados_cursos_feminino[dados_cursos_feminino <= dados_cursos_feminino.quantile(0.25)]"
      ],
      "execution_count": 46,
      "outputs": [
        {
          "output_type": "execute_result",
          "data": {
            "text/plain": [
              "nome_curso\n",
              "TECNOLOGIA DA INFORMAÇÃO                 0.103745\n",
              "ENGENHARIA DE TELECOMUNICAÇÕES           0.117647\n",
              "ENGENHARIA MECATRÔNICA                   0.139535\n",
              "ENGENHARIA DE SOFTWARE                   0.155844\n",
              "ENGENHARIA DE COMPUTAÇÃO                 0.159664\n",
              "SISTEMAS DE INFORMAÇÃO                   0.163194\n",
              "ENGENHARIA ELÉTRICA                      0.164407\n",
              "ENGENHARIA MECÂNICA                      0.173913\n",
              "CIÊNCIA DA COMPUTAÇÃO                    0.178571\n",
              "FÍSICA                                   0.189614\n",
              "ANÁLISE E DESENVOLVIMENTO DE SISTEMAS    0.196970\n",
              "CIÊNCIAS ECONÔMICAS                      0.227929\n",
              "CIÊNCIAS E TECNOLOGIA                    0.230393\n",
              "MATEMÁTICA                               0.255869\n",
              "MÚSICA                                   0.257212\n",
              "ENGENHARIA CIVIL                         0.274194\n",
              "EDUCAÇÃO FÍSICA                          0.309877\n",
              "ENGENHARIA DE PRODUÇÃO                   0.311419\n",
              "CIÊNCIAS ATUARIAIS                       0.316406\n",
              "ENGENHARIA AGRONÔMICA                    0.320158\n",
              "GEOLOGIA                                 0.321608\n",
              "Name: F, dtype: float64"
            ]
          },
          "metadata": {
            "tags": []
          },
          "execution_count": 46
        }
      ]
    },
    {
      "cell_type": "markdown",
      "metadata": {
        "id": "Vv5WcTLOpXpL"
      },
      "source": [
        "De fato, o único novo insight que obtemos é a presença do curso de educação física neste grupo, uma exceção entre os cursos de saúde.\n",
        "\n",
        "Vamos ver agora os cursos acima do terceiro quartil:"
      ]
    },
    {
      "cell_type": "code",
      "metadata": {
        "id": "ClhS_cEEpWzu",
        "colab": {
          "base_uri": "https://localhost:8080/"
        },
        "outputId": "dbbb9d1e-9a43-498e-a04f-db67da91dd28"
      },
      "source": [
        "dados_cursos_feminino[dados_cursos_feminino >= dados_cursos_feminino.quantile(0.75)]"
      ],
      "execution_count": 47,
      "outputs": [
        {
          "output_type": "execute_result",
          "data": {
            "text/plain": [
              "nome_curso\n",
              "LETRAS                                    0.604478\n",
              "BIBLIOTECONOMIA                           0.612245\n",
              "ODONTOLOGIA                               0.615527\n",
              "DANÇA                                     0.617647\n",
              "LETRAS - LÍNGUA PORTUGUESA                0.626357\n",
              "LETRAS- LÍNGUA ESPANHOLA E LITERATURAS    0.628000\n",
              "BIOMEDICINA                               0.645740\n",
              "FISIOTERAPIA                              0.661017\n",
              "PSICOLOGIA                                0.679558\n",
              "SAÚDE COLETIVA                            0.680000\n",
              "ARQUITETURA E URBANISMO                   0.680451\n",
              "GESTÃO HOSPITALAR                         0.698444\n",
              "LETRAS - LÍNGUA ESPANHOLA                 0.702020\n",
              "LETRAS - PORTUGUÊS E INGLÊS               0.720000\n",
              "ENFERMAGEM                                0.754028\n",
              "LETRAS - LÍNGUA PORTUGUESA E LIBRAS       0.759615\n",
              "PEDAGOGIA                                 0.779475\n",
              "NUTRIÇÃO                                  0.790219\n",
              "FONOAUDIOLOGIA                            0.852140\n",
              "SERVIÇO SOCIAL                            0.871022\n",
              "LETRAS -                                  0.875000\n",
              "Name: F, dtype: float64"
            ]
          },
          "metadata": {
            "tags": []
          },
          "execution_count": 47
        }
      ]
    },
    {
      "cell_type": "markdown",
      "metadata": {
        "id": "0f3dekAhp8vw"
      },
      "source": [
        "Aqui vemos mais uma exceção, com arquitetura e urbanismo neste grupo.\n",
        "\n",
        "Além disso, chama a atenção a presença de cursos de Letra, considerando que sua unidade responsável apresenta proporção quase igualitária entre discentes homens e mulheres. \n",
        "\n",
        "Para finalizar, vamos usar o `distplot` e comparamos a distribuição dos dados com uma distribuição normal:"
      ]
    },
    {
      "cell_type": "code",
      "metadata": {
        "id": "iq_8XSoQcrT-",
        "colab": {
          "base_uri": "https://localhost:8080/",
          "height": 372
        },
        "outputId": "c8771bc7-4ae5-4fa0-c977-9324807c56fe"
      },
      "source": [
        "sns.distplot(dados_cursos_feminino, fit=norm, bins=10)\n",
        "plt.ylabel(\"Quantidade de cursos\")\n",
        "plt.xlabel(\"Percentual\")\n",
        "plt.title(\"Discentes de graduação do sexo feminino por curso\")"
      ],
      "execution_count": 48,
      "outputs": [
        {
          "output_type": "stream",
          "text": [
            "/usr/local/lib/python3.7/dist-packages/seaborn/distributions.py:2557: FutureWarning: `distplot` is a deprecated function and will be removed in a future version. Please adapt your code to use either `displot` (a figure-level function with similar flexibility) or `histplot` (an axes-level function for histograms).\n",
            "  warnings.warn(msg, FutureWarning)\n"
          ],
          "name": "stderr"
        },
        {
          "output_type": "execute_result",
          "data": {
            "text/plain": [
              "Text(0.5, 1.0, 'Discentes de graduação do sexo feminino por curso')"
            ]
          },
          "metadata": {
            "tags": []
          },
          "execution_count": 48
        },
        {
          "output_type": "display_data",
          "data": {
            "image/png": "[encoded data removed]",
            "text/plain": [
              "<Figure size 432x288 with 1 Axes>"
            ]
          },
          "metadata": {
            "tags": []
          }
        }
      ]
    },
    {
      "cell_type": "markdown",
      "metadata": {
        "id": "0UH1S5_RqpyU"
      },
      "source": [
        "Neste caso, notamos uma distribuição bem mais aproximada da normal.\n",
        "\n",
        "No entanto, há um pico considerável na extremidade inferior do eixo x.\n",
        "\n",
        "No geral, podemos dizer que a diversidade na universidade está em uma situação melhor do que a diversidade nos cursos da universidade.\n",
        "\n",
        "Em outras palavras, diferentes perfis encontrarão cursos para lhes atender, mas poucos cursos atenderão os diferentes perfis."
      ]
    }
  ]
}